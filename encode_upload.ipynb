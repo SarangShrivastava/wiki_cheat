{
 "cells": [
  {
   "cell_type": "code",
   "execution_count": 1,
   "id": "201646e2-8b91-4f54-a5f9-5631a1ad495b",
   "metadata": {},
   "outputs": [],
   "source": [
    "import glob\n",
    "import sys\n",
    "import os\n",
    "import json\n",
    "import pickle\n",
    "from qdrant_client import QdrantClient, models\n",
    "from sentence_transformers import SentenceTransformer\n",
    "\n",
    "root_path = '/home/ec2-user/sarang/wiki_cheat'\n",
    "\n",
    "sys.path.insert(0, os.path.abspath(root_path))\n",
    "os.chdir(root_path)"
   ]
  },
  {
   "cell_type": "code",
   "execution_count": null,
   "id": "556885fd-cfa1-44ef-a892-103674511288",
   "metadata": {},
   "outputs": [],
   "source": [
    "import openai\n",
    "### Load the environment file\n",
    "env_file_path = find_dotenv()\n",
    "logging.info(f'env_file_path: {env_file_path}')\n",
    "load_dotenv(env_file_path)\n",
    "\n",
    "### API keys and tokens needed for interaction with external APIS\n",
    "openai.api_key = os.getenv('OPENAI_API_KEY')\n",
    "huggingface_token = os.getenv('HF_TOKEN')"
   ]
  },
  {
   "cell_type": "markdown",
   "id": "f4c34d29-294b-4faf-9f3b-72e6c0e8e2e6",
   "metadata": {},
   "source": [
    "# Load Data dump"
   ]
  },
  {
   "cell_type": "code",
   "execution_count": 2,
   "id": "dada43f0-f795-4a1e-8e62-a323cf046b31",
   "metadata": {},
   "outputs": [
    {
     "name": "stdout",
     "output_type": "stream",
     "text": [
      "CPU times: user 364 ms, sys: 151 ms, total: 516 ms\n",
      "Wall time: 515 ms\n"
     ]
    }
   ],
   "source": [
    "%%time\n",
    "data_path = 'data/wikipedia-22-12-simple-cohere-small.pkl'\n",
    "with open('data/wikipedia-22-12-simple-cohere-small.pkl', 'rb') as fp:\n",
    "    wiki_data = pickle.load(fp)"
   ]
  },
  {
   "cell_type": "code",
   "execution_count": 3,
   "id": "2cd3eb49-6de8-4e24-9441-581f9f0733aa",
   "metadata": {
    "collapsed": true,
    "jupyter": {
     "outputs_hidden": true
    }
   },
   "outputs": [
    {
     "data": {
      "text/plain": [
       "{'id': 485858,\n",
       " 'title': '1970s in American television',\n",
       " 'text': 'Many prime-time programs of the 1970s were helmed by independent producers, often in association with a major Hollywood studio. A particularly successful independent producer at the dawn of the decade was Quinn Martin. Martin produced crime shows such as \"The Streets of San Francisco\", \"Cannon\", and \"Dan August\". The latter show was a one-season cop series, starring an up-and-coming actor Burt Reynolds, that would find greater popularity after its star had hit it big at the cinema. Martin\\'s success would fade during the last half of the decade. By the end of 1980, the former mega-producer would be left without a single prime-time network series on the air. As for other producers during the period, Norman Lear produced the socially relevant \"All in the Family\" as well as more innocuous fare such as \"One Day at a Time\". Jack Webb, a holdover from previous decades, oversaw \"Adam-12\" and \"Emergency!. Glen A. Larson produced a number of shows in association with Universal TV (\"McCloud\", \"Switch\", etc.), while David Gerber made a name for himself with such fare as \"Police Woman\" and \"Police Story\". The latter was a one-hour anthology series with no series regulars. Among 1970s TV producers, was Aaron Spelling. He would go on to be perhaps, according to an article written by Michael Idato for \"The Sydney Morning Herald\", \"the most prolific producer in TV history.\" Like Quinn Martin, Spelling was known for producing crime dramas (\"S.W.A.T.\", \"Starsky & Hutch\"). Spelling also produced more escapist fare as represented by the likes of \"The Love Boat\", \"Fantasy Island\", and even the private-eye opus \"Charlie\\'s Angels\". There was also \"Family\", a socially relevant hour-long series. It would win a number of Emmys during its four-year run. Spelling\\'s success would continue well into the 1990s.',\n",
       " 'url': 'https://simple.wikipedia.org/wiki?curid=936068',\n",
       " 'wiki_id': 936068,\n",
       " 'views': 0.0,\n",
       " 'paragraph_id': 24,\n",
       " 'langs': 0}"
      ]
     },
     "execution_count": 3,
     "metadata": {},
     "output_type": "execute_result"
    }
   ],
   "source": [
    "wiki_data[-1]"
   ]
  },
  {
   "cell_type": "markdown",
   "id": "00cf85d2-02a6-4f58-a4d2-bd93f060398f",
   "metadata": {},
   "source": [
    "# Load the Encoder model and compute the embeddings. This step takes ~13 mins for 500k passages on a A10 node with 512 as the batch size"
   ]
  },
  {
   "cell_type": "code",
   "execution_count": 3,
   "id": "ea95b82c-307f-4628-9dc2-5bfccea762ab",
   "metadata": {},
   "outputs": [],
   "source": [
    "# model_path = 'sentence-transformers/all-mpnet-base-v2'\n",
    "model_path = 'train_embedder/models/sentence-transformers-all-mpnet-base-v2-2024-01-27_20-14-10'\n",
    "encoder_model = SentenceTransformer(model_path, device='cuda')"
   ]
  },
  {
   "cell_type": "code",
   "execution_count": 4,
   "id": "d84f1e15-b289-4edd-b5ef-522586aa5c43",
   "metadata": {},
   "outputs": [],
   "source": [
    "wiki_data_text = [ dp['text'] for dp in wiki_data]"
   ]
  },
  {
   "cell_type": "code",
   "execution_count": 5,
   "id": "d23d6e64-afb2-406c-8301-21277abbcba1",
   "metadata": {},
   "outputs": [
    {
     "data": {
      "application/vnd.jupyter.widget-view+json": {
       "model_id": "faa47ed24fb64c6cb96ea6a2f25799c1",
       "version_major": 2,
       "version_minor": 0
      },
      "text/plain": [
       "Batches:   0%|          | 0/949 [00:00<?, ?it/s]"
      ]
     },
     "metadata": {},
     "output_type": "display_data"
    },
    {
     "name": "stdout",
     "output_type": "stream",
     "text": [
      "CPU times: user 16min, sys: 18.4 s, total: 16min 18s\n",
      "Wall time: 13min 27s\n"
     ]
    }
   ],
   "source": [
    "%%time\n",
    "vector=encoder_model.encode(wiki_data_text, show_progress_bar=True, batch_size=512).tolist()"
   ]
  },
  {
   "cell_type": "code",
   "execution_count": 6,
   "id": "2f9efbf0-99c4-4101-ba30-3c5f47451142",
   "metadata": {},
   "outputs": [
    {
     "data": {
      "text/plain": [
       "485859"
      ]
     },
     "execution_count": 6,
     "metadata": {},
     "output_type": "execute_result"
    }
   ],
   "source": [
    "len(vector)"
   ]
  },
  {
   "cell_type": "markdown",
   "id": "f6f9b21c-d0c4-4fb2-85c3-196722307e3c",
   "metadata": {},
   "source": [
    "# Use Qdrant to store the embeddings. Create collection and upload records"
   ]
  },
  {
   "cell_type": "markdown",
   "id": "ccd5ad7c-555d-4cfb-b7bd-44f2de95a6e2",
   "metadata": {},
   "source": [
    "#### On a small free tier 1 GB ram machine, the on_disk parameter had to set to True and memmap_threshold was set to 200000 .\n",
    "#### Have a look at this for more details - https://qdrant.tech/documentation/concepts/storage/#configuring-memmap-storage "
   ]
  },
  {
   "cell_type": "code",
   "execution_count": null,
   "id": "dd071d7b-e67f-49cd-bba3-8ff908a45e0f",
   "metadata": {},
   "outputs": [],
   "source": [
    "qdrant_client = QdrantClient(\n",
    "    url=\"\", \n",
    "    api_key=\"\",\n",
    ")"
   ]
  },
  {
   "cell_type": "code",
   "execution_count": 39,
   "id": "280324b3-c373-473d-8348-ac226ca4e65b",
   "metadata": {},
   "outputs": [
    {
     "data": {
      "text/plain": [
       "True"
      ]
     },
     "execution_count": 39,
     "metadata": {},
     "output_type": "execute_result"
    }
   ],
   "source": [
    "qdrant_client.create_collection(\n",
    "    collection_name=\"wiki_all-mpnet-base-v2\",\n",
    "    vectors_config=models.VectorParams(\n",
    "        size=768, distance=models.Distance.COSINE, on_disk=True,\n",
    "    ),\n",
    "    optimizers_config=models.OptimizersConfigDiff(memmap_threshold=20000),\n",
    ")"
   ]
  },
  {
   "cell_type": "code",
   "execution_count": 22,
   "id": "a943ee72-271f-4d10-8162-b7db4e3889c5",
   "metadata": {},
   "outputs": [
    {
     "data": {
      "text/plain": [
       "True"
      ]
     },
     "execution_count": 22,
     "metadata": {},
     "output_type": "execute_result"
    }
   ],
   "source": [
    "qdrant_client.recreate_collection(\n",
    "    collection_name=\"wiki_all-mpnet-base-v2\",\n",
    "    vectors_config=models.VectorParams(\n",
    "        size=encoder_model.get_sentence_embedding_dimension(),  # Vector size is defined by used model\n",
    "        distance=models.Distance.COSINE,\n",
    "    ),\n",
    ")"
   ]
  },
  {
   "cell_type": "code",
   "execution_count": 40,
   "id": "3fb84c6d-a68c-4250-b85e-66c067a97220",
   "metadata": {},
   "outputs": [
    {
     "name": "stderr",
     "output_type": "stream",
     "text": [
      "<timed eval>:1: DeprecationWarning: `upload_records` is deprecated, use `upload_points` instead\n"
     ]
    },
    {
     "name": "stdout",
     "output_type": "stream",
     "text": [
      "CPU times: user 3min 46s, sys: 12.3 s, total: 3min 58s\n",
      "Wall time: 27min 37s\n"
     ]
    }
   ],
   "source": [
    "%%time\n",
    "qdrant_client.upload_records(\n",
    "    collection_name=\"wiki_all-mpnet-base-v2\",\n",
    "    records=[\n",
    "        models.Record(\n",
    "            id=idx, vector=vector[idx], payload=doc\n",
    "        )\n",
    "        for idx, doc in enumerate(wiki_data)\n",
    "    ],\n",
    ")"
   ]
  },
  {
   "cell_type": "code",
   "execution_count": null,
   "id": "dd9729ea-4309-45e4-858d-d628f8328a75",
   "metadata": {},
   "outputs": [],
   "source": [
    "hits = qdrant_client.search(\n",
    "    collection_name=\"wiki_all-mpnet-base-v2\",\n",
    "    query_vector=model.encode(\"alien invasion\").tolist(),\n",
    "    limit=3,\n",
    ")\n",
    "for hit in hits:\n",
    "    print(hit.payload, \"score:\", hit.score)"
   ]
  },
  {
   "cell_type": "markdown",
   "id": "2314dae0-e48c-4cf0-9a56-9ac9e199421d",
   "metadata": {},
   "source": [
    "# Use Pinecone serverless instead. Provides 100$ of free credit. Should be good enough for this application\n",
    "\n",
    "### Upload takes about ~19 mins with batch size 100 for ~500k datapoints"
   ]
  },
  {
   "cell_type": "code",
   "execution_count": 7,
   "id": "6f5ed13f-0827-4ce0-b51c-9ac1c92b5244",
   "metadata": {},
   "outputs": [],
   "source": [
    "from pinecone import Pinecone, ServerlessSpec\n",
    "\n",
    "pc = Pinecone(api_key=os.getenv('PINECONE_API_KEY'), pool_threads=30)"
   ]
  },
  {
   "cell_type": "code",
   "execution_count": 8,
   "id": "68b1d49f-2666-437b-90f8-590f2943a90c",
   "metadata": {},
   "outputs": [],
   "source": [
    "pc.create_index(\n",
    "    name=\"wiki-all-mpnet-base-v2-trained\",\n",
    "    dimension=encoder_model.get_sentence_embedding_dimension(),\n",
    "    metric=\"cosine\", \n",
    "    spec=ServerlessSpec(\n",
    "        cloud=\"aws\",\n",
    "        region=\"us-west-2\"\n",
    "    ) \n",
    ")"
   ]
  },
  {
   "cell_type": "code",
   "execution_count": 9,
   "id": "bd0eb10d-74cd-428b-9a2f-77b9bd2ea2c7",
   "metadata": {},
   "outputs": [],
   "source": [
    "upsert_data = []\n",
    "for idx, dp in enumerate(wiki_data):\n",
    "    upsert_data.append({\n",
    "        \"id\": str(dp['id']),\n",
    "        \"values\": vector[idx],\n",
    "        \"metadata\": dp\n",
    "    })"
   ]
  },
  {
   "cell_type": "code",
   "execution_count": 10,
   "id": "106d8e56-e176-4e86-afcf-09adea3ae09b",
   "metadata": {},
   "outputs": [
    {
     "name": "stdout",
     "output_type": "stream",
     "text": [
      "CPU times: user 19min 5s, sys: 12.8 s, total: 19min 17s\n",
      "Wall time: 19min 7s\n"
     ]
    }
   ],
   "source": [
    "%%time\n",
    "import random\n",
    "import itertools\n",
    "from pinecone import Pinecone\n",
    "\n",
    "def chunks(iterable, batch_size=100):\n",
    "    \"\"\"A helper function to break an iterable into chunks of size batch_size.\"\"\"\n",
    "    it = iter(iterable)\n",
    "    chunk = tuple(itertools.islice(it, batch_size))\n",
    "    while chunk:\n",
    "        yield chunk\n",
    "        chunk = tuple(itertools.islice(it, batch_size))\n",
    "\n",
    "with pc.Index('wiki-all-mpnet-base-v2-trained', pool_threads=30) as index:\n",
    "    # Send requests in parallel\n",
    "    async_results = [\n",
    "        index.upsert(vectors=ids_vectors_chunk, async_req=True)\n",
    "        for ids_vectors_chunk in chunks(upsert_data, batch_size=100)\n",
    "    ]\n",
    "    # Wait for and retrieve responses (this raises in case of error)\n",
    "    [async_result.get() for async_result in async_results]"
   ]
  }
 ],
 "metadata": {
  "kernelspec": {
   "display_name": "Python 3 (ipykernel)",
   "language": "python",
   "name": "python3"
  },
  "language_info": {
   "codemirror_mode": {
    "name": "ipython",
    "version": 3
   },
   "file_extension": ".py",
   "mimetype": "text/x-python",
   "name": "python",
   "nbconvert_exporter": "python",
   "pygments_lexer": "ipython3",
   "version": "3.10.13"
  }
 },
 "nbformat": 4,
 "nbformat_minor": 5
}
