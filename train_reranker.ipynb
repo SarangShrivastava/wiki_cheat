{
 "cells": [
  {
   "cell_type": "code",
   "execution_count": 9,
   "id": "bf34d475-e4f9-4fc2-9a96-501d7a1b8aae",
   "metadata": {
    "editable": true,
    "slideshow": {
     "slide_type": ""
    },
    "tags": []
   },
   "outputs": [],
   "source": [
    "import os\n",
    "import sys\n",
    "import yaml\n",
    "import json\n",
    "import tiktoken\n",
    "import openai\n",
    "import torch\n",
    "from torch.utils.data import DataLoader\n",
    "from sentence_transformers import LoggingHandler, util\n",
    "from sentence_transformers.cross_encoder import CrossEncoder\n",
    "from sentence_transformers.cross_encoder.evaluation import CERerankingEvaluator\n",
    "from sentence_transformers import InputExample\n",
    "\n",
    "from torch.utils.data import DataLoader\n",
    "import math\n",
    "from sentence_transformers import SentenceTransformer, LoggingHandler, losses, util, InputExample\n",
    "import logging\n",
    "from datetime import datetime\n",
    "import os\n",
    "import gzip\n",
    "import csv\n",
    "\n",
    "from datetime import datetime\n",
    "import gzip\n",
    "import os\n",
    "import tarfile\n",
    "import tqdm\n",
    "import numpy as np\n",
    "import wandb\n",
    "\n",
    "from transformers import AutoTokenizer, AutoModelForSequenceClassification\n",
    "import torch\n",
    "\n",
    "from sentence_transformers.cross_encoder.evaluation import CEBinaryClassificationEvaluator\n",
    "\n",
    "root_path = '/home/ec2-user/sarang/wiki_cheat'\n",
    "\n",
    "sys.path.insert(0, os.path.abspath(root_path))\n",
    "os.chdir(root_path)\n",
    "\n",
    "#### Just some code to print debug information to stdout\n",
    "logging.basicConfig(format='%(asctime)s - %(message)s',\n",
    "                    datefmt='%Y-%m-%d %H:%M:%S',\n",
    "                    level=logging.INFO,\n",
    "                    handlers=[LoggingHandler()])"
   ]
  },
  {
   "cell_type": "markdown",
   "id": "92b58c50-87ff-42d7-91d8-cfe489f6b59b",
   "metadata": {},
   "source": [
    "## Load dataset"
   ]
  },
  {
   "cell_type": "code",
   "execution_count": 3,
   "id": "4e85f39c-7535-4213-8113-88b1feb9133c",
   "metadata": {},
   "outputs": [],
   "source": [
    "### Combined dataset\n",
    "test_data_path = 'data/combined_test_data.json'\n",
    "with open(test_data_path, 'r') as fp:\n",
    "    combined_test_data = json.load(fp)\n",
    "\n",
    "train_data_path = 'data/combined_train_data.json'\n",
    "with open(train_data_path, 'r') as fp:\n",
    "    combined_train_data = json.load(fp)\n",
    "\n",
    "### Synth dataset\n",
    "test_data_path = 'data/test_data_synth_nf.json'\n",
    "with open(test_data_path, 'r') as fp:\n",
    "    test_data_synth = json.load(fp)\n",
    "\n",
    "train_data_path = 'data/train_data_synth_nf.json'\n",
    "with open(train_data_path, 'r') as fp:\n",
    "    train_data_synth = json.load(fp)\n",
    "\n",
    "### Wikiqa dataset\n",
    "test_data_path = 'data/test_data_wikiqa_nf.json'\n",
    "with open(test_data_path, 'r') as fp:\n",
    "    test_data_wikiqa = json.load(fp)\n",
    "\n",
    "train_data_path = 'data/train_data_wikiqa_nf.json'\n",
    "with open(train_data_path, 'r') as fp:\n",
    "    train_data_wikiqa = json.load(fp)"
   ]
  },
  {
   "cell_type": "code",
   "execution_count": 4,
   "id": "dc568f12-a627-4f82-ae56-70ca5c2dc34e",
   "metadata": {
    "collapsed": true,
    "jupyter": {
     "outputs_hidden": true
    }
   },
   "outputs": [
    {
     "data": {
      "text/plain": [
       "{'query': 'HOW AFRICAN AMERICANS WERE IMMIGRATED TO THE US',\n",
       " 'title': 'African immigration to the United States',\n",
       " 'pos': 'As such, African immigrants are to be distinguished from African American people, the latter of whom are descendants of mostly West and Central Africans who were involuntarily brought to the United States by means of the historic Atlantic slave trade .',\n",
       " 'negs': ['African immigration to the United States refers to immigrants to the United States who are or were nationals of Africa .',\n",
       "  'The term African in the scope of this article refers to geographical or national origins rather than racial affiliation.',\n",
       "  'From the Immigration and Nationality Act of 1965 to 2007, an estimated total of 0.8 to 0.9 million Africans immigrated to the United States, accounting for roughly 3.3% of total immigration to the United States during this period.',\n",
       "  'African immigrants in the United States come from almost all regions in Africa and do not constitute a homogeneous group.',\n",
       "  'They include people from different national, linguistic, ethnic, racial, cultural and social backgrounds.'],\n",
       " 'answer': 'None'}"
      ]
     },
     "execution_count": 4,
     "metadata": {},
     "output_type": "execute_result"
    }
   ],
   "source": [
    "combined_test_data[0]"
   ]
  },
  {
   "cell_type": "markdown",
   "id": "76245834-a7ae-4765-9776-9f4b7ea3b042",
   "metadata": {},
   "source": [
    "### Quickly check how many samples are exceeding the max token limit. Only 1, so not a lot. Do not need to chunk the wiki passages further. "
   ]
  },
  {
   "cell_type": "code",
   "execution_count": 5,
   "id": "30a70731-3305-439e-bb27-91099dafb6b7",
   "metadata": {},
   "outputs": [
    {
     "name": "stderr",
     "output_type": "stream",
     "text": [
      "Token indices sequence length is longer than the specified maximum sequence length for this model (545 > 512). Running this sequence through the model will result in indexing errors\n"
     ]
    },
    {
     "data": {
      "text/plain": [
       "(545, 1)"
      ]
     },
     "execution_count": 5,
     "metadata": {},
     "output_type": "execute_result"
    }
   ],
   "source": [
    "from transformers import AutoTokenizer, AutoModel\n",
    "import torch\n",
    "import math\n",
    "from sentence_transformers import SentenceTransformer, SentencesDataset, losses\n",
    "\n",
    "tokenizer = AutoTokenizer.from_pretrained('sentence-transformers/all-mpnet-base-v2')\n",
    "\n",
    "input_examples = []\n",
    "for data in combined_train_data:\n",
    "    input_examples.append(InputExample(texts=[data['query'], data['pos']]))\n",
    "len(input_examples)\n",
    "\n",
    "max_toks = 0\n",
    "cnt = 0\n",
    "\n",
    "for inp in input_examples:\n",
    "    text = inp.texts[1]\n",
    "    tokens = tokenizer([text], padding=True)\n",
    "    if len(tokens['input_ids'][0]) > 512:\n",
    "        cnt+=1\n",
    "    max_toks = max(max_toks, len(tokens['input_ids'][0]))\n",
    "\n",
    "max_toks, cnt"
   ]
  },
  {
   "cell_type": "markdown",
   "id": "98678c4b-dbd6-4781-b33b-a288c16e787e",
   "metadata": {},
   "source": [
    "## Train code"
   ]
  },
  {
   "cell_type": "code",
   "execution_count": 13,
   "id": "07409e21-efb2-4bd0-86cc-2e1ed90d3ccd",
   "metadata": {},
   "outputs": [],
   "source": [
    "def train(train_config, test_queries, test_passages,test_labels):\n",
    "    train_config['model_save_path'] = 'train_reranker/models/'+train_config['base_model'].replace(\"/\", \"-\")+'-'+datetime.now().strftime(\"%Y-%m-%d_%H-%M-%S\")\n",
    "    \n",
    "    model = CrossEncoder(train_config['base_model'],\n",
    "                         train_config['num_labels'], \n",
    "                         max_length=train_config['max_length'],\n",
    "                         device=train_config['device'])\n",
    "    \n",
    "    train_dataloader = DataLoader(input_examples, shuffle=True, batch_size=train_config['train_batch_size'])\n",
    "    evaluator = CEBinaryClassificationEvaluator([ [q,p] for q,p in zip(test_queries, test_passages)], test_labels)\n",
    "    \n",
    "    # Train the model\n",
    "    model.fit(train_dataloader=train_dataloader,\n",
    "              evaluator=evaluator,\n",
    "              epochs=train_config['epochs'],\n",
    "              warmup_steps=train_config['warmup_steps'],\n",
    "              output_path=train_config['model_save_path'],\n",
    "              use_amp=True,\n",
    "              show_progress_bar=True\n",
    "    )\n"
   ]
  },
  {
   "cell_type": "markdown",
   "id": "ec44064b-a4e9-4aec-9244-d50408814ae8",
   "metadata": {},
   "source": [
    "## Train Data"
   ]
  },
  {
   "cell_type": "code",
   "execution_count": 14,
   "id": "ee084ada-0cf8-4450-aa79-8b99e03722e8",
   "metadata": {},
   "outputs": [
    {
     "data": {
      "text/plain": [
       "58366"
      ]
     },
     "execution_count": 14,
     "metadata": {},
     "output_type": "execute_result"
    }
   ],
   "source": [
    "input_examples = []\n",
    "for data in combined_train_data:\n",
    "    input_examples.append(InputExample(texts=[data['query'], data['pos']], label=1))\n",
    "    for neg in data['negs']:\n",
    "        input_examples.append(InputExample(texts=[data['query'], neg], label=0))\n",
    "\n",
    "len(input_examples)"
   ]
  },
  {
   "cell_type": "markdown",
   "id": "922f8c99-6d80-4e3b-9576-6f089da42c21",
   "metadata": {},
   "source": [
    "##  Eval Data"
   ]
  },
  {
   "cell_type": "code",
   "execution_count": 15,
   "id": "c9428ac2-7d71-41a9-8e51-e32d297a7dfa",
   "metadata": {},
   "outputs": [],
   "source": [
    "test_queries = []\n",
    "test_passages = []\n",
    "test_labels = []\n",
    "for data in combined_test_data:\n",
    "    test_queries.append(data['query'])\n",
    "    test_passages.append(data['pos'])\n",
    "    test_labels.append(1)\n",
    "\n",
    "    for neg in data['negs']:\n",
    "        test_queries.append(data['query'])\n",
    "        test_passages.append(neg)\n",
    "        test_labels.append(0)"
   ]
  },
  {
   "cell_type": "code",
   "execution_count": 14,
   "id": "d56b7775-8a00-45a4-a905-c824a6dcfca7",
   "metadata": {},
   "outputs": [
    {
     "data": {
      "text/plain": [
       "24093"
      ]
     },
     "execution_count": 14,
     "metadata": {},
     "output_type": "execute_result"
    }
   ],
   "source": [
    "len(test_passages)"
   ]
  },
  {
   "cell_type": "markdown",
   "id": "b6f6961d-8e64-4ce8-9776-240faedbaa72",
   "metadata": {},
   "source": [
    "## Reranker Experiments\n",
    "### Experiments with various batch size with miniLM-L-6 and mini-LM-l-12\n",
    "### Batch size 128 with miniLM-L-6 throws and 64 with miniLM-L-12 throws OOM "
   ]
  },
  {
   "cell_type": "code",
   "execution_count": 10,
   "id": "de95cb68-d277-4cf1-b281-8253d8c2ea33",
   "metadata": {
    "collapsed": true,
    "jupyter": {
     "outputs_hidden": true,
     "source_hidden": true
    },
    "scrolled": true
   },
   "outputs": [
    {
     "data": {
      "application/vnd.jupyter.widget-view+json": {
       "model_id": "5bdebcbc987d4e0fb424d76b24422b0f",
       "version_major": 2,
       "version_minor": 0
      },
      "text/plain": [
       "Epoch:   0%|          | 0/5 [00:00<?, ?it/s]"
      ]
     },
     "metadata": {},
     "output_type": "display_data"
    },
    {
     "data": {
      "application/vnd.jupyter.widget-view+json": {
       "model_id": "885df353071f486d87bd7b73f45453b1",
       "version_major": 2,
       "version_minor": 0
      },
      "text/plain": [
       "Iteration:   0%|          | 0/1824 [00:00<?, ?it/s]"
      ]
     },
     "metadata": {},
     "output_type": "display_data"
    },
    {
     "name": "stdout",
     "output_type": "stream",
     "text": [
      "2024-01-28 19:26:03 - CEBinaryClassificationEvaluator: Evaluating the model on  dataset after epoch 0:\n",
      "2024-01-28 19:26:37 - Accuracy:           98.12\t(Threshold: 1.7351)\n",
      "2024-01-28 19:26:37 - F1:                 89.53\t(Threshold: 1.0694)\n",
      "2024-01-28 19:26:37 - Precision:          90.00\n",
      "2024-01-28 19:26:37 - Recall:             89.06\n",
      "2024-01-28 19:26:37 - Average Precision:  95.41\n",
      "\n",
      "2024-01-28 19:26:37 - Save model to train_reranker/models/cross-encoder-ms-marco-MiniLM-L-12-v2-2024-01-28_19-22-20\n"
     ]
    },
    {
     "data": {
      "application/vnd.jupyter.widget-view+json": {
       "model_id": "f5808d6376bf4d188053736a2b6ae0cb",
       "version_major": 2,
       "version_minor": 0
      },
      "text/plain": [
       "Iteration:   0%|          | 0/1824 [00:00<?, ?it/s]"
      ]
     },
     "metadata": {},
     "output_type": "display_data"
    },
    {
     "name": "stdout",
     "output_type": "stream",
     "text": [
      "2024-01-28 19:30:18 - CEBinaryClassificationEvaluator: Evaluating the model on  dataset after epoch 1:\n",
      "2024-01-28 19:30:52 - Accuracy:           98.18\t(Threshold: 2.2896)\n",
      "2024-01-28 19:30:52 - F1:                 89.82\t(Threshold: 1.3535)\n",
      "2024-01-28 19:30:52 - Precision:          88.99\n",
      "2024-01-28 19:30:52 - Recall:             90.66\n",
      "2024-01-28 19:30:52 - Average Precision:  95.36\n",
      "\n"
     ]
    },
    {
     "data": {
      "application/vnd.jupyter.widget-view+json": {
       "model_id": "510741654433407cbec9eefe52661e68",
       "version_major": 2,
       "version_minor": 0
      },
      "text/plain": [
       "Iteration:   0%|          | 0/1824 [00:00<?, ?it/s]"
      ]
     },
     "metadata": {},
     "output_type": "display_data"
    },
    {
     "name": "stdout",
     "output_type": "stream",
     "text": [
      "2024-01-28 19:34:33 - CEBinaryClassificationEvaluator: Evaluating the model on  dataset after epoch 2:\n",
      "2024-01-28 19:35:07 - Accuracy:           98.14\t(Threshold: 2.7202)\n",
      "2024-01-28 19:35:07 - F1:                 89.68\t(Threshold: 2.7044)\n",
      "2024-01-28 19:35:07 - Precision:          90.45\n",
      "2024-01-28 19:35:07 - Recall:             88.92\n",
      "2024-01-28 19:35:07 - Average Precision:  95.39\n",
      "\n"
     ]
    },
    {
     "data": {
      "application/vnd.jupyter.widget-view+json": {
       "model_id": "496bc8e87fea4f13a52ae9337b5dde3c",
       "version_major": 2,
       "version_minor": 0
      },
      "text/plain": [
       "Iteration:   0%|          | 0/1824 [00:00<?, ?it/s]"
      ]
     },
     "metadata": {},
     "output_type": "display_data"
    },
    {
     "name": "stdout",
     "output_type": "stream",
     "text": [
      "2024-01-28 19:38:47 - CEBinaryClassificationEvaluator: Evaluating the model on  dataset after epoch 3:\n",
      "2024-01-28 19:39:21 - Accuracy:           98.11\t(Threshold: 3.7485)\n",
      "2024-01-28 19:39:21 - F1:                 89.62\t(Threshold: 2.7342)\n",
      "2024-01-28 19:39:21 - Precision:          88.95\n",
      "2024-01-28 19:39:21 - Recall:             90.29\n",
      "2024-01-28 19:39:21 - Average Precision:  95.30\n",
      "\n"
     ]
    },
    {
     "data": {
      "application/vnd.jupyter.widget-view+json": {
       "model_id": "142468196a264edb852393aae1e1b7ad",
       "version_major": 2,
       "version_minor": 0
      },
      "text/plain": [
       "Iteration:   0%|          | 0/1824 [00:00<?, ?it/s]"
      ]
     },
     "metadata": {},
     "output_type": "display_data"
    },
    {
     "name": "stdout",
     "output_type": "stream",
     "text": [
      "2024-01-28 19:43:01 - CEBinaryClassificationEvaluator: Evaluating the model on  dataset after epoch 4:\n",
      "2024-01-28 19:43:35 - Accuracy:           98.07\t(Threshold: 4.6845)\n",
      "2024-01-28 19:43:35 - F1:                 89.34\t(Threshold: 2.8917)\n",
      "2024-01-28 19:43:35 - Precision:          88.15\n",
      "2024-01-28 19:43:35 - Recall:             90.57\n",
      "2024-01-28 19:43:35 - Average Precision:  95.15\n",
      "\n",
      "CPU times: user 24min 9s, sys: 1min 7s, total: 25min 17s\n",
      "Wall time: 21min 15s\n"
     ]
    }
   ],
   "source": [
    "%%time\n",
    "\n",
    "base_model_name = 'cross-encoder/ms-marco-MiniLM-L-12-v2'\n",
    "\n",
    "train_config ={\n",
    "        \"base_model\": base_model_name,\n",
    "        \"epochs\": 5,\n",
    "        \"train_batch_size\" : 32,\n",
    "        \"warmup_steps\": 50,\n",
    "        \"evaluation_steps\" : 2000,\n",
    "        \"num_labels\": 1,\n",
    "        \"max_length\": 512,\n",
    "        \"device\": 'cuda',\n",
    "        \"evaluator_name\":'eval_on_test_data',\n",
    "        \"train\": True\n",
    "}\n",
    "\n",
    "train(train_config, test_queries, test_passages,test_labels)"
   ]
  },
  {
   "cell_type": "markdown",
   "id": "fd60ff7f-6119-4f54-9ff8-e9119648bf1f",
   "metadata": {},
   "source": [
    "## Evaluation ( Eval on the combined test dataset )"
   ]
  },
  {
   "cell_type": "markdown",
   "id": "5c3a7cfd-971d-4ca9-82e1-4a50df0bc8fa",
   "metadata": {},
   "source": [
    "### Baseline original model "
   ]
  },
  {
   "cell_type": "code",
   "execution_count": 47,
   "id": "5d1c2c7a-d833-46c5-971b-e8ab9e7ed360",
   "metadata": {},
   "outputs": [
    {
     "name": "stdout",
     "output_type": "stream",
     "text": [
      "2024-01-28 18:51:33 - CEBinaryClassificationEvaluator: Evaluating the model on  dataset:\n",
      "2024-01-28 18:51:51 - Accuracy:           96.50\t(Threshold: 5.9702)\n",
      "2024-01-28 18:51:51 - F1:                 80.50\t(Threshold: 5.7280)\n",
      "2024-01-28 18:51:51 - Precision:          80.59\n",
      "2024-01-28 18:51:51 - Recall:             80.40\n",
      "2024-01-28 18:51:51 - Average Precision:  86.26\n",
      "\n"
     ]
    }
   ],
   "source": [
    "base_model_name = 'cross-encoder/ms-marco-MiniLM-L-6-v2'\n",
    "model = CrossEncoder(base_model_name, device='cuda', num_labels=1)\n",
    "evaluator = CEBinaryClassificationEvaluator([ [q,p] for q,p in zip(test_queries, test_passages)], test_labels)\n",
    "scores = evaluator(model)"
   ]
  },
  {
   "cell_type": "markdown",
   "id": "d3764ea4-1319-4d31-ad61-17d62b0e7eb7",
   "metadata": {},
   "source": [
    "### train on combined dataset , cross-encoder-ms-marco-MiniLM-L-12 with batch size 32"
   ]
  },
  {
   "cell_type": "code",
   "execution_count": 11,
   "id": "4d9a1aa9-b66a-4732-8a3a-a52279f50304",
   "metadata": {},
   "outputs": [
    {
     "name": "stdout",
     "output_type": "stream",
     "text": [
      "2024-01-28 19:45:36 - CEBinaryClassificationEvaluator: Evaluating the model on  dataset:\n",
      "2024-01-28 19:46:10 - Accuracy:           98.12\t(Threshold: 1.7351)\n",
      "2024-01-28 19:46:10 - F1:                 89.53\t(Threshold: 1.0694)\n",
      "2024-01-28 19:46:10 - Precision:          90.00\n",
      "2024-01-28 19:46:10 - Recall:             89.06\n",
      "2024-01-28 19:46:10 - Average Precision:  95.41\n",
      "\n"
     ]
    }
   ],
   "source": [
    "base_model_name = 'train_reranker/models/cross-encoder-ms-marco-MiniLM-L-12-v2-2024-01-28_19-22-20'\n",
    "model = CrossEncoder(base_model_name, device='cuda', num_labels=1)\n",
    "evaluator = CEBinaryClassificationEvaluator([ [q,p] for q,p in zip(test_queries, test_passages)], test_labels)\n",
    "scores = evaluator(model)"
   ]
  },
  {
   "cell_type": "markdown",
   "id": "12f03b62-0ffb-4a91-a07d-42ee836ce5e7",
   "metadata": {},
   "source": [
    "### train on combined dataset , cross-encoder-ms-marco-MiniLM-L-6 with batch size 64"
   ]
  },
  {
   "cell_type": "code",
   "execution_count": 12,
   "id": "71a6a2cb-7ce7-41ff-ba7e-a820f5a465b1",
   "metadata": {},
   "outputs": [
    {
     "name": "stdout",
     "output_type": "stream",
     "text": [
      "2024-01-28 19:46:31 - CEBinaryClassificationEvaluator: Evaluating the model on  dataset:\n",
      "2024-01-28 19:46:49 - Accuracy:           98.09\t(Threshold: 2.0311)\n",
      "2024-01-28 19:46:49 - F1:                 89.44\t(Threshold: 1.3753)\n",
      "2024-01-28 19:46:49 - Precision:          88.88\n",
      "2024-01-28 19:46:49 - Recall:             90.02\n",
      "2024-01-28 19:46:49 - Average Precision:  95.04\n",
      "\n"
     ]
    }
   ],
   "source": [
    "base_model_name = 'train_reranker/models/cross-encoder-ms-marco-MiniLM-L-6-v2-2024-01-28_18-52-53'\n",
    "model = CrossEncoder(base_model_name, device='cuda', num_labels=1)\n",
    "evaluator = CEBinaryClassificationEvaluator([ [q,p] for q,p in zip(test_queries, test_passages)], test_labels)\n",
    "scores = evaluator(model)"
   ]
  }
 ],
 "metadata": {
  "kernelspec": {
   "display_name": "Python 3 (ipykernel)",
   "language": "python",
   "name": "python3"
  },
  "language_info": {
   "codemirror_mode": {
    "name": "ipython",
    "version": 3
   },
   "file_extension": ".py",
   "mimetype": "text/x-python",
   "name": "python",
   "nbconvert_exporter": "python",
   "pygments_lexer": "ipython3",
   "version": "3.10.13"
  }
 },
 "nbformat": 4,
 "nbformat_minor": 5
}
