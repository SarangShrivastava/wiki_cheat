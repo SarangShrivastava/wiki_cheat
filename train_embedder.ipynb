{
 "cells": [
  {
   "cell_type": "code",
   "execution_count": 1,
   "id": "bf34d475-e4f9-4fc2-9a96-501d7a1b8aae",
   "metadata": {
    "editable": true,
    "slideshow": {
     "slide_type": ""
    },
    "tags": []
   },
   "outputs": [],
   "source": [
    "import os\n",
    "import sys\n",
    "import yaml\n",
    "import json\n",
    "import tiktoken\n",
    "import openai\n",
    "import torch\n",
    "from torch.utils.data import DataLoader\n",
    "\n",
    "from sentence_transformers.cross_encoder import CrossEncoder\n",
    "from sentence_transformers.cross_encoder.evaluation import CERerankingEvaluator\n",
    "\n",
    "import math\n",
    "from sentence_transformers import SentenceTransformer, LoggingHandler, losses, util, InputExample, SentencesDataset\n",
    "from sentence_transformers.evaluation import EmbeddingSimilarityEvaluator, InformationRetrievalEvaluator\n",
    "import logging\n",
    "from datetime import datetime\n",
    "import gzip\n",
    "import csv\n",
    "\n",
    "import tarfile\n",
    "import tqdm\n",
    "import numpy as np\n",
    "import wandb\n",
    "\n",
    "from transformers import AutoTokenizer, AutoModel\n",
    "\n",
    "root_path = '/home/ec2-user/sarang/wiki_cheat'\n",
    "\n",
    "sys.path.insert(0, os.path.abspath(root_path))\n",
    "os.chdir(root_path)\n"
   ]
  },
  {
   "cell_type": "code",
   "execution_count": 2,
   "id": "920f425b-1cca-43a3-991f-48fdc1a302dd",
   "metadata": {},
   "outputs": [],
   "source": [
    "#### Just some code to print debug information to stdout\n",
    "logging.basicConfig(format='%(asctime)s - %(message)s',\n",
    "                    datefmt='%Y-%m-%d %H:%M:%S',\n",
    "                    level=logging.INFO,\n",
    "                    handlers=[LoggingHandler()])"
   ]
  },
  {
   "cell_type": "markdown",
   "id": "92b58c50-87ff-42d7-91d8-cfe489f6b59b",
   "metadata": {},
   "source": [
    "## Load dataset"
   ]
  },
  {
   "cell_type": "code",
   "execution_count": 3,
   "id": "4e85f39c-7535-4213-8113-88b1feb9133c",
   "metadata": {},
   "outputs": [],
   "source": [
    "### Combined dataset\n",
    "test_data_path = 'data/combined_test_data.json'\n",
    "with open(test_data_path, 'r') as fp:\n",
    "    combined_test_data = json.load(fp)\n",
    "\n",
    "train_data_path = 'data/combined_train_data.json'\n",
    "with open(train_data_path, 'r') as fp:\n",
    "    combined_train_data = json.load(fp)\n",
    "\n",
    "### Synth dataset\n",
    "test_data_path = 'data/test_data_synth_nf.json'\n",
    "with open(test_data_path, 'r') as fp:\n",
    "    test_data_synth = json.load(fp)\n",
    "\n",
    "train_data_path = 'data/train_data_synth_nf.json'\n",
    "with open(train_data_path, 'r') as fp:\n",
    "    train_data_synth = json.load(fp)\n",
    "\n",
    "### Wikiqa dataset\n",
    "test_data_path = 'data/test_data_wikiqa_nf.json'\n",
    "with open(test_data_path, 'r') as fp:\n",
    "    test_data_wikiqa = json.load(fp)\n",
    "\n",
    "train_data_path = 'data/train_data_wikiqa_nf.json'\n",
    "with open(train_data_path, 'r') as fp:\n",
    "    train_data_wikiqa = json.load(fp)"
   ]
  },
  {
   "cell_type": "code",
   "execution_count": 43,
   "id": "dc568f12-a627-4f82-ae56-70ca5c2dc34e",
   "metadata": {},
   "outputs": [
    {
     "data": {
      "text/plain": [
       "{'query': 'HOW AFRICAN AMERICANS WERE IMMIGRATED TO THE US',\n",
       " 'title': 'African immigration to the United States',\n",
       " 'pos': 'As such, African immigrants are to be distinguished from African American people, the latter of whom are descendants of mostly West and Central Africans who were involuntarily brought to the United States by means of the historic Atlantic slave trade .',\n",
       " 'negs': ['African immigration to the United States refers to immigrants to the United States who are or were nationals of Africa .',\n",
       "  'The term African in the scope of this article refers to geographical or national origins rather than racial affiliation.',\n",
       "  'From the Immigration and Nationality Act of 1965 to 2007, an estimated total of 0.8 to 0.9 million Africans immigrated to the United States, accounting for roughly 3.3% of total immigration to the United States during this period.',\n",
       "  'African immigrants in the United States come from almost all regions in Africa and do not constitute a homogeneous group.',\n",
       "  'They include people from different national, linguistic, ethnic, racial, cultural and social backgrounds.'],\n",
       " 'answer': 'None'}"
      ]
     },
     "execution_count": 43,
     "metadata": {},
     "output_type": "execute_result"
    }
   ],
   "source": [
    "combined_test_data[0]"
   ]
  },
  {
   "cell_type": "markdown",
   "id": "76245834-a7ae-4765-9776-9f4b7ea3b042",
   "metadata": {},
   "source": [
    "#### Quickly check how many samples are exceeding the max token limit. Only 1 so not a lot. Do not need to chunk the wiki passages further. "
   ]
  },
  {
   "cell_type": "code",
   "execution_count": 33,
   "id": "30a70731-3305-439e-bb27-91099dafb6b7",
   "metadata": {},
   "outputs": [
    {
     "name": "stderr",
     "output_type": "stream",
     "text": [
      "Token indices sequence length is longer than the specified maximum sequence length for this model (545 > 512). Running this sequence through the model will result in indexing errors\n"
     ]
    },
    {
     "data": {
      "text/plain": [
       "(545, 1)"
      ]
     },
     "execution_count": 33,
     "metadata": {},
     "output_type": "execute_result"
    }
   ],
   "source": [
    "\n",
    "\n",
    "tokenizer = AutoTokenizer.from_pretrained('sentence-transformers/all-mpnet-base-v2')\n",
    "\n",
    "input_examples = []\n",
    "for data in combined_train_data:\n",
    "    input_examples.append(InputExample(texts=[data['query'], data['pos']]))\n",
    "len(input_examples)\n",
    "\n",
    "max_toks = 0\n",
    "cnt = 0\n",
    "\n",
    "for inp in input_examples:\n",
    "    text = inp.texts[1]\n",
    "    tokens = tokenizer([text], padding=True)\n",
    "    if len(tokens['input_ids'][0]) > 512:\n",
    "        cnt+=1\n",
    "    max_toks = max(max_toks, len(tokens['input_ids'][0]))\n",
    "\n",
    "max_toks, cnt"
   ]
  },
  {
   "cell_type": "markdown",
   "id": "1f518b20-026e-4d11-ba81-a3387c74c2f4",
   "metadata": {},
   "source": [
    "## Evaluation Data"
   ]
  },
  {
   "cell_type": "code",
   "execution_count": 4,
   "id": "e8f3d1d4-f4ab-4119-a589-2719c2635e83",
   "metadata": {},
   "outputs": [],
   "source": [
    "test_queries = { str(idx): data['query'] for idx, data in enumerate(combined_test_data) }\n",
    "\n",
    "test_passages = { str(idx)+'_'+str(jdx+1): neg for idx, data in enumerate(combined_test_data) \n",
    "                 for jdx, neg in enumerate(data['negs']) }\n",
    "\n",
    "for idx, data in enumerate(combined_test_data):\n",
    "    test_passages[str(idx)+'_'+str(0)] = data['pos']\n",
    "\n",
    "test_relevant_docs = { str(idx): set([str(idx)+'_'+str(0)]) for idx, data in enumerate(combined_test_data) }"
   ]
  },
  {
   "cell_type": "code",
   "execution_count": 5,
   "id": "bba462f6-095b-4883-a65f-d5c7b5d4bc06",
   "metadata": {},
   "outputs": [
    {
     "data": {
      "text/plain": [
       "24093"
      ]
     },
     "execution_count": 5,
     "metadata": {},
     "output_type": "execute_result"
    }
   ],
   "source": [
    "len(test_passages)"
   ]
  },
  {
   "cell_type": "markdown",
   "id": "98678c4b-dbd6-4781-b33b-a288c16e787e",
   "metadata": {},
   "source": [
    "## Train code"
   ]
  },
  {
   "cell_type": "code",
   "execution_count": 41,
   "id": "07409e21-efb2-4bd0-86cc-2e1ed90d3ccd",
   "metadata": {},
   "outputs": [],
   "source": [
    "def train(train_config, train_input_examples, test_queries, test_passages, test_relevant_docs):\n",
    "    train_config['model_save_path'] = 'train_embedder/models/'+train_config['base_model'].replace(\"/\", \"-\")+'-'+datetime.now().strftime(\"%Y-%m-%d_%H-%M-%S\")\n",
    "\n",
    "    model = SentenceTransformer(train_config['base_model'])\n",
    "    train_dataloader = DataLoader(input_examples, shuffle=True, batch_size=train_config['train_batch_size'])\n",
    "    train_loss = losses.MultipleNegativesRankingLoss(model=model)\n",
    "    \n",
    "    evaluator = InformationRetrievalEvaluator(test_queries, test_passages, test_relevant_docs)\n",
    "    warmup_steps = math.ceil(len(train_dataloader) * train_config['epochs'] * 0.1) #10% of train data for warm-up\n",
    "    logging.info(\"Warmup-steps: {}\".format(warmup_steps))\n",
    "    \n",
    "    # Train the model\n",
    "    model.fit(train_objectives=[(train_dataloader, train_loss)],\n",
    "              evaluator=evaluator,\n",
    "              epochs=train_config['epochs'],\n",
    "              warmup_steps=warmup_steps,\n",
    "              output_path=train_config['model_save_path'],\n",
    "              use_amp=True,\n",
    "              show_progress_bar=True\n",
    "            )"
   ]
  },
  {
   "cell_type": "markdown",
   "id": "b9c45bc2-04e4-488c-bdba-5998ce893320",
   "metadata": {},
   "source": [
    "## Retriever Experiments"
   ]
  },
  {
   "cell_type": "markdown",
   "id": "308256c3-d837-4349-95c3-a96619d9ca9e",
   "metadata": {},
   "source": [
    "### v1.0 Base model, with 16 as the batch size, with the only the synth data\n",
    "### v1.1 Base model, with 44 as the batch size, with the only the synth data\n",
    "### v2.0 Base model, with 44 as the batch size, with the combined dataset"
   ]
  },
  {
   "cell_type": "code",
   "execution_count": 42,
   "id": "de95cb68-d277-4cf1-b281-8253d8c2ea33",
   "metadata": {
    "collapsed": true,
    "jupyter": {
     "outputs_hidden": true
    },
    "scrolled": true
   },
   "outputs": [
    {
     "name": "stdout",
     "output_type": "stream",
     "text": [
      "2024-01-28 15:48:56 - Load pretrained SentenceTransformer: sentence-transformers/all-mpnet-base-v2\n",
      "2024-01-28 15:48:56 - Use pytorch device: cuda\n",
      "2024-01-28 15:48:56 - Warmup-steps: 28\n"
     ]
    },
    {
     "data": {
      "application/vnd.jupyter.widget-view+json": {
       "model_id": "126607a3b5cc440c80496c98bc4cd9f8",
       "version_major": 2,
       "version_minor": 0
      },
      "text/plain": [
       "Epoch:   0%|          | 0/1 [00:00<?, ?it/s]"
      ]
     },
     "metadata": {},
     "output_type": "display_data"
    },
    {
     "data": {
      "application/vnd.jupyter.widget-view+json": {
       "model_id": "83d026a4cc244e4aa138f2c15b0dce68",
       "version_major": 2,
       "version_minor": 0
      },
      "text/plain": [
       "Iteration:   0%|          | 0/274 [00:00<?, ?it/s]"
      ]
     },
     "metadata": {},
     "output_type": "display_data"
    },
    {
     "name": "stdout",
     "output_type": "stream",
     "text": [
      "2024-01-28 15:49:56 - Information Retrieval Evaluation on  dataset after epoch 0:\n",
      "2024-01-28 15:50:32 - Queries: 2184\n",
      "2024-01-28 15:50:32 - Corpus: 24093\n",
      "\n",
      "2024-01-28 15:50:32 - Score-Function: cos_sim\n",
      "2024-01-28 15:50:32 - Accuracy@1: 83.38%\n",
      "2024-01-28 15:50:32 - Accuracy@3: 95.01%\n",
      "2024-01-28 15:50:32 - Accuracy@5: 97.02%\n",
      "2024-01-28 15:50:32 - Accuracy@10: 98.63%\n",
      "2024-01-28 15:50:32 - Precision@1: 83.38%\n",
      "2024-01-28 15:50:32 - Precision@3: 31.67%\n",
      "2024-01-28 15:50:32 - Precision@5: 19.40%\n",
      "2024-01-28 15:50:32 - Precision@10: 9.86%\n",
      "2024-01-28 15:50:32 - Recall@1: 83.38%\n",
      "2024-01-28 15:50:32 - Recall@3: 95.01%\n",
      "2024-01-28 15:50:32 - Recall@5: 97.02%\n",
      "2024-01-28 15:50:32 - Recall@10: 98.63%\n",
      "2024-01-28 15:50:32 - MRR@10: 0.8943\n",
      "2024-01-28 15:50:32 - NDCG@10: 0.9172\n",
      "2024-01-28 15:50:32 - MAP@100: 0.8950\n",
      "2024-01-28 15:50:32 - Score-Function: dot_score\n",
      "2024-01-28 15:50:32 - Accuracy@1: 83.42%\n",
      "2024-01-28 15:50:32 - Accuracy@3: 95.05%\n",
      "2024-01-28 15:50:32 - Accuracy@5: 97.02%\n",
      "2024-01-28 15:50:32 - Accuracy@10: 98.63%\n",
      "2024-01-28 15:50:32 - Precision@1: 83.42%\n",
      "2024-01-28 15:50:32 - Precision@3: 31.68%\n",
      "2024-01-28 15:50:32 - Precision@5: 19.40%\n",
      "2024-01-28 15:50:32 - Precision@10: 9.86%\n",
      "2024-01-28 15:50:32 - Recall@1: 83.42%\n",
      "2024-01-28 15:50:32 - Recall@3: 95.05%\n",
      "2024-01-28 15:50:32 - Recall@5: 97.02%\n",
      "2024-01-28 15:50:32 - Recall@10: 98.63%\n",
      "2024-01-28 15:50:32 - MRR@10: 0.8946\n",
      "2024-01-28 15:50:32 - NDCG@10: 0.9174\n",
      "2024-01-28 15:50:32 - MAP@100: 0.8953\n",
      "2024-01-28 15:50:32 - Save model to train_embedder/models/sentence-transformers-all-mpnet-base-v2-2024-01-28_15-48-56\n",
      "CPU times: user 2min 19s, sys: 20.6 s, total: 2min 40s\n",
      "Wall time: 1min 37s\n"
     ]
    }
   ],
   "source": [
    "%%time\n",
    "input_examples = []\n",
    "for data in combined_train_data:\n",
    "    input_examples.append(InputExample(texts=[data['query'], data['pos']]))\n",
    "\n",
    "base_model_name = 'sentence-transformers/all-mpnet-base-v2'\n",
    "\n",
    "train_config ={\n",
    "        \"base_model\": base_model_name,\n",
    "        \"epochs\": 10,\n",
    "        \"train_batch_size\" : 44,\n",
    "        \"warmup_steps\": 50,\n",
    "        \"max_length\": 512,\n",
    "        \"device\": 'cuda',\n",
    "        \"train\": True\n",
    "}\n",
    "\n",
    "train(train_config, input_examples, test_queries, test_passages, test_relevant_docs)"
   ]
  },
  {
   "cell_type": "markdown",
   "id": "5cd4ad84-ff81-48cb-9cc9-3eea863d0b3e",
   "metadata": {},
   "source": [
    "### v3.0 Base model, with 16 as the batch size, with the combined dataset, adding a hard negative as well this time\n",
    "#### Batch size 32 and above kept throwing OOM\n",
    "#### So there are about ~1000 dps which don't have a neg"
   ]
  },
  {
   "cell_type": "code",
   "execution_count": 5,
   "id": "15749377-f30b-4acf-a5ac-370c8c767e4e",
   "metadata": {
    "collapsed": true,
    "jupyter": {
     "outputs_hidden": true
    }
   },
   "outputs": [
    {
     "name": "stdout",
     "output_type": "stream",
     "text": [
      "2024-01-28 02:55:09 - Load pretrained SentenceTransformer: sentence-transformers/all-mpnet-base-v2\n",
      "2024-01-28 02:55:09 - Use pytorch device: cuda\n",
      "2024-01-28 02:55:09 - Warmup-steps: 479\n"
     ]
    },
    {
     "data": {
      "application/vnd.jupyter.widget-view+json": {
       "model_id": "c3aa1e2cb7704600a05db3ab8e4ad19b",
       "version_major": 2,
       "version_minor": 0
      },
      "text/plain": [
       "Epoch:   0%|          | 0/10 [00:00<?, ?it/s]"
      ]
     },
     "metadata": {},
     "output_type": "display_data"
    },
    {
     "data": {
      "application/vnd.jupyter.widget-view+json": {
       "model_id": "624406c241b44a56a997c5cfa08261d4",
       "version_major": 2,
       "version_minor": 0
      },
      "text/plain": [
       "Iteration:   0%|          | 0/479 [00:00<?, ?it/s]"
      ]
     },
     "metadata": {},
     "output_type": "display_data"
    },
    {
     "name": "stdout",
     "output_type": "stream",
     "text": [
      "2024-01-28 02:56:42 - Information Retrieval Evaluation on  dataset after epoch 0:\n",
      "2024-01-28 02:57:18 - Queries: 2184\n",
      "2024-01-28 02:57:18 - Corpus: 24093\n",
      "\n",
      "2024-01-28 02:57:18 - Score-Function: cos_sim\n",
      "2024-01-28 02:57:18 - Accuracy@1: 81.64%\n",
      "2024-01-28 02:57:18 - Accuracy@3: 92.58%\n",
      "2024-01-28 02:57:18 - Accuracy@5: 95.33%\n",
      "2024-01-28 02:57:18 - Accuracy@10: 97.44%\n",
      "2024-01-28 02:57:18 - Precision@1: 81.64%\n",
      "2024-01-28 02:57:18 - Precision@3: 30.86%\n",
      "2024-01-28 02:57:18 - Precision@5: 19.07%\n",
      "2024-01-28 02:57:18 - Precision@10: 9.74%\n",
      "2024-01-28 02:57:18 - Recall@1: 81.64%\n",
      "2024-01-28 02:57:18 - Recall@3: 92.58%\n",
      "2024-01-28 02:57:18 - Recall@5: 95.33%\n",
      "2024-01-28 02:57:18 - Recall@10: 97.44%\n",
      "2024-01-28 02:57:18 - MRR@10: 0.8751\n",
      "2024-01-28 02:57:18 - NDCG@10: 0.8995\n",
      "2024-01-28 02:57:18 - MAP@100: 0.8761\n",
      "2024-01-28 02:57:18 - Score-Function: dot_score\n",
      "2024-01-28 02:57:18 - Accuracy@1: 81.68%\n",
      "2024-01-28 02:57:18 - Accuracy@3: 92.58%\n",
      "2024-01-28 02:57:18 - Accuracy@5: 95.33%\n",
      "2024-01-28 02:57:18 - Accuracy@10: 97.44%\n",
      "2024-01-28 02:57:18 - Precision@1: 81.68%\n",
      "2024-01-28 02:57:18 - Precision@3: 30.86%\n",
      "2024-01-28 02:57:18 - Precision@5: 19.07%\n",
      "2024-01-28 02:57:18 - Precision@10: 9.74%\n",
      "2024-01-28 02:57:18 - Recall@1: 81.68%\n",
      "2024-01-28 02:57:18 - Recall@3: 92.58%\n",
      "2024-01-28 02:57:18 - Recall@5: 95.33%\n",
      "2024-01-28 02:57:18 - Recall@10: 97.44%\n",
      "2024-01-28 02:57:18 - MRR@10: 0.8753\n",
      "2024-01-28 02:57:18 - NDCG@10: 0.8997\n",
      "2024-01-28 02:57:18 - MAP@100: 0.8763\n",
      "2024-01-28 02:57:18 - Save model to train_embedder/models/sentence-transformers-all-mpnet-base-v2-2024-01-28_02-55-09\n"
     ]
    },
    {
     "data": {
      "application/vnd.jupyter.widget-view+json": {
       "model_id": "1089a26d784e4a96b505cd87f72f8640",
       "version_major": 2,
       "version_minor": 0
      },
      "text/plain": [
       "Iteration:   0%|          | 0/479 [00:00<?, ?it/s]"
      ]
     },
     "metadata": {},
     "output_type": "display_data"
    },
    {
     "name": "stdout",
     "output_type": "stream",
     "text": [
      "2024-01-28 02:58:50 - Information Retrieval Evaluation on  dataset after epoch 1:\n",
      "2024-01-28 02:59:26 - Queries: 2184\n",
      "2024-01-28 02:59:26 - Corpus: 24093\n",
      "\n",
      "2024-01-28 02:59:26 - Score-Function: cos_sim\n",
      "2024-01-28 02:59:26 - Accuracy@1: 82.23%\n",
      "2024-01-28 02:59:26 - Accuracy@3: 91.80%\n",
      "2024-01-28 02:59:26 - Accuracy@5: 94.78%\n",
      "2024-01-28 02:59:26 - Accuracy@10: 96.98%\n",
      "2024-01-28 02:59:26 - Precision@1: 82.23%\n",
      "2024-01-28 02:59:26 - Precision@3: 30.60%\n",
      "2024-01-28 02:59:26 - Precision@5: 18.96%\n",
      "2024-01-28 02:59:26 - Precision@10: 9.70%\n",
      "2024-01-28 02:59:26 - Recall@1: 82.23%\n",
      "2024-01-28 02:59:26 - Recall@3: 91.80%\n",
      "2024-01-28 02:59:26 - Recall@5: 94.78%\n",
      "2024-01-28 02:59:26 - Recall@10: 96.98%\n",
      "2024-01-28 02:59:26 - MRR@10: 0.8756\n",
      "2024-01-28 02:59:26 - NDCG@10: 0.8987\n",
      "2024-01-28 02:59:26 - MAP@100: 0.8770\n",
      "2024-01-28 02:59:26 - Score-Function: dot_score\n",
      "2024-01-28 02:59:26 - Accuracy@1: 82.23%\n",
      "2024-01-28 02:59:26 - Accuracy@3: 91.80%\n",
      "2024-01-28 02:59:26 - Accuracy@5: 94.78%\n",
      "2024-01-28 02:59:26 - Accuracy@10: 97.02%\n",
      "2024-01-28 02:59:26 - Precision@1: 82.23%\n",
      "2024-01-28 02:59:26 - Precision@3: 30.60%\n",
      "2024-01-28 02:59:26 - Precision@5: 18.96%\n",
      "2024-01-28 02:59:26 - Precision@10: 9.70%\n",
      "2024-01-28 02:59:26 - Recall@1: 82.23%\n",
      "2024-01-28 02:59:26 - Recall@3: 91.80%\n",
      "2024-01-28 02:59:26 - Recall@5: 94.78%\n",
      "2024-01-28 02:59:26 - Recall@10: 97.02%\n",
      "2024-01-28 02:59:26 - MRR@10: 0.8756\n",
      "2024-01-28 02:59:26 - NDCG@10: 0.8988\n",
      "2024-01-28 02:59:26 - MAP@100: 0.8770\n",
      "2024-01-28 02:59:26 - Save model to train_embedder/models/sentence-transformers-all-mpnet-base-v2-2024-01-28_02-55-09\n"
     ]
    },
    {
     "data": {
      "application/vnd.jupyter.widget-view+json": {
       "model_id": "c9cda19d922a4cd2a16a9dbe4209800b",
       "version_major": 2,
       "version_minor": 0
      },
      "text/plain": [
       "Iteration:   0%|          | 0/479 [00:00<?, ?it/s]"
      ]
     },
     "metadata": {},
     "output_type": "display_data"
    },
    {
     "name": "stdout",
     "output_type": "stream",
     "text": [
      "2024-01-28 03:01:00 - Information Retrieval Evaluation on  dataset after epoch 2:\n",
      "2024-01-28 03:01:36 - Queries: 2184\n",
      "2024-01-28 03:01:36 - Corpus: 24093\n",
      "\n",
      "2024-01-28 03:01:36 - Score-Function: cos_sim\n",
      "2024-01-28 03:01:36 - Accuracy@1: 79.95%\n",
      "2024-01-28 03:01:36 - Accuracy@3: 91.03%\n",
      "2024-01-28 03:01:36 - Accuracy@5: 93.68%\n",
      "2024-01-28 03:01:36 - Accuracy@10: 96.29%\n",
      "2024-01-28 03:01:36 - Precision@1: 79.95%\n",
      "2024-01-28 03:01:36 - Precision@3: 30.34%\n",
      "2024-01-28 03:01:36 - Precision@5: 18.74%\n",
      "2024-01-28 03:01:36 - Precision@10: 9.63%\n",
      "2024-01-28 03:01:36 - Recall@1: 79.95%\n",
      "2024-01-28 03:01:36 - Recall@3: 91.03%\n",
      "2024-01-28 03:01:36 - Recall@5: 93.68%\n",
      "2024-01-28 03:01:36 - Recall@10: 96.29%\n",
      "2024-01-28 03:01:36 - MRR@10: 0.8595\n",
      "2024-01-28 03:01:36 - NDCG@10: 0.8849\n",
      "2024-01-28 03:01:36 - MAP@100: 0.8611\n",
      "2024-01-28 03:01:36 - Score-Function: dot_score\n",
      "2024-01-28 03:01:36 - Accuracy@1: 79.95%\n",
      "2024-01-28 03:01:36 - Accuracy@3: 91.07%\n",
      "2024-01-28 03:01:36 - Accuracy@5: 93.68%\n",
      "2024-01-28 03:01:36 - Accuracy@10: 96.29%\n",
      "2024-01-28 03:01:36 - Precision@1: 79.95%\n",
      "2024-01-28 03:01:36 - Precision@3: 30.36%\n",
      "2024-01-28 03:01:36 - Precision@5: 18.74%\n",
      "2024-01-28 03:01:36 - Precision@10: 9.63%\n",
      "2024-01-28 03:01:36 - Recall@1: 79.95%\n",
      "2024-01-28 03:01:36 - Recall@3: 91.07%\n",
      "2024-01-28 03:01:36 - Recall@5: 93.68%\n",
      "2024-01-28 03:01:36 - Recall@10: 96.29%\n",
      "2024-01-28 03:01:36 - MRR@10: 0.8596\n",
      "2024-01-28 03:01:36 - NDCG@10: 0.8850\n",
      "2024-01-28 03:01:36 - MAP@100: 0.8611\n"
     ]
    },
    {
     "data": {
      "application/vnd.jupyter.widget-view+json": {
       "model_id": "b8d3345dd1a74454a93421294308de06",
       "version_major": 2,
       "version_minor": 0
      },
      "text/plain": [
       "Iteration:   0%|          | 0/479 [00:00<?, ?it/s]"
      ]
     },
     "metadata": {},
     "output_type": "display_data"
    },
    {
     "name": "stdout",
     "output_type": "stream",
     "text": [
      "2024-01-28 03:03:08 - Information Retrieval Evaluation on  dataset after epoch 3:\n",
      "2024-01-28 03:03:44 - Queries: 2184\n",
      "2024-01-28 03:03:44 - Corpus: 24093\n",
      "\n",
      "2024-01-28 03:03:44 - Score-Function: cos_sim\n",
      "2024-01-28 03:03:44 - Accuracy@1: 81.55%\n",
      "2024-01-28 03:03:44 - Accuracy@3: 91.90%\n",
      "2024-01-28 03:03:44 - Accuracy@5: 94.92%\n",
      "2024-01-28 03:03:44 - Accuracy@10: 97.16%\n",
      "2024-01-28 03:03:44 - Precision@1: 81.55%\n",
      "2024-01-28 03:03:44 - Precision@3: 30.63%\n",
      "2024-01-28 03:03:44 - Precision@5: 18.98%\n",
      "2024-01-28 03:03:44 - Precision@10: 9.72%\n",
      "2024-01-28 03:03:44 - Recall@1: 81.55%\n",
      "2024-01-28 03:03:44 - Recall@3: 91.90%\n",
      "2024-01-28 03:03:44 - Recall@5: 94.92%\n",
      "2024-01-28 03:03:44 - Recall@10: 97.16%\n",
      "2024-01-28 03:03:44 - MRR@10: 0.8719\n",
      "2024-01-28 03:03:44 - NDCG@10: 0.8964\n",
      "2024-01-28 03:03:44 - MAP@100: 0.8731\n",
      "2024-01-28 03:03:44 - Score-Function: dot_score\n",
      "2024-01-28 03:03:44 - Accuracy@1: 81.59%\n",
      "2024-01-28 03:03:44 - Accuracy@3: 91.85%\n",
      "2024-01-28 03:03:44 - Accuracy@5: 94.92%\n",
      "2024-01-28 03:03:44 - Accuracy@10: 97.16%\n",
      "2024-01-28 03:03:44 - Precision@1: 81.59%\n",
      "2024-01-28 03:03:44 - Precision@3: 30.62%\n",
      "2024-01-28 03:03:44 - Precision@5: 18.98%\n",
      "2024-01-28 03:03:44 - Precision@10: 9.72%\n",
      "2024-01-28 03:03:44 - Recall@1: 81.59%\n",
      "2024-01-28 03:03:44 - Recall@3: 91.85%\n",
      "2024-01-28 03:03:44 - Recall@5: 94.92%\n",
      "2024-01-28 03:03:44 - Recall@10: 97.16%\n",
      "2024-01-28 03:03:44 - MRR@10: 0.8721\n",
      "2024-01-28 03:03:44 - NDCG@10: 0.8965\n",
      "2024-01-28 03:03:44 - MAP@100: 0.8733\n"
     ]
    },
    {
     "data": {
      "application/vnd.jupyter.widget-view+json": {
       "model_id": "aa172880982a4433bdc62a569e338221",
       "version_major": 2,
       "version_minor": 0
      },
      "text/plain": [
       "Iteration:   0%|          | 0/479 [00:00<?, ?it/s]"
      ]
     },
     "metadata": {},
     "output_type": "display_data"
    },
    {
     "name": "stdout",
     "output_type": "stream",
     "text": [
      "2024-01-28 03:05:16 - Information Retrieval Evaluation on  dataset after epoch 4:\n",
      "2024-01-28 03:05:52 - Queries: 2184\n",
      "2024-01-28 03:05:52 - Corpus: 24093\n",
      "\n",
      "2024-01-28 03:05:52 - Score-Function: cos_sim\n",
      "2024-01-28 03:05:52 - Accuracy@1: 83.65%\n",
      "2024-01-28 03:05:52 - Accuracy@3: 93.13%\n",
      "2024-01-28 03:05:52 - Accuracy@5: 95.15%\n",
      "2024-01-28 03:05:52 - Accuracy@10: 97.71%\n",
      "2024-01-28 03:05:52 - Precision@1: 83.65%\n",
      "2024-01-28 03:05:52 - Precision@3: 31.04%\n",
      "2024-01-28 03:05:52 - Precision@5: 19.03%\n",
      "2024-01-28 03:05:52 - Precision@10: 9.77%\n",
      "2024-01-28 03:05:52 - Recall@1: 83.65%\n",
      "2024-01-28 03:05:52 - Recall@3: 93.13%\n",
      "2024-01-28 03:05:52 - Recall@5: 95.15%\n",
      "2024-01-28 03:05:52 - Recall@10: 97.71%\n",
      "2024-01-28 03:05:52 - MRR@10: 0.8874\n",
      "2024-01-28 03:05:52 - NDCG@10: 0.9094\n",
      "2024-01-28 03:05:52 - MAP@100: 0.8884\n",
      "2024-01-28 03:05:52 - Score-Function: dot_score\n",
      "2024-01-28 03:05:52 - Accuracy@1: 83.65%\n",
      "2024-01-28 03:05:52 - Accuracy@3: 93.13%\n",
      "2024-01-28 03:05:52 - Accuracy@5: 95.15%\n",
      "2024-01-28 03:05:52 - Accuracy@10: 97.71%\n",
      "2024-01-28 03:05:52 - Precision@1: 83.65%\n",
      "2024-01-28 03:05:52 - Precision@3: 31.04%\n",
      "2024-01-28 03:05:52 - Precision@5: 19.03%\n",
      "2024-01-28 03:05:52 - Precision@10: 9.77%\n",
      "2024-01-28 03:05:52 - Recall@1: 83.65%\n",
      "2024-01-28 03:05:52 - Recall@3: 93.13%\n",
      "2024-01-28 03:05:52 - Recall@5: 95.15%\n",
      "2024-01-28 03:05:52 - Recall@10: 97.71%\n",
      "2024-01-28 03:05:52 - MRR@10: 0.8874\n",
      "2024-01-28 03:05:52 - NDCG@10: 0.9094\n",
      "2024-01-28 03:05:52 - MAP@100: 0.8884\n",
      "2024-01-28 03:05:52 - Save model to train_embedder/models/sentence-transformers-all-mpnet-base-v2-2024-01-28_02-55-09\n"
     ]
    },
    {
     "data": {
      "application/vnd.jupyter.widget-view+json": {
       "model_id": "c901bef00eae4db78c247d0125108316",
       "version_major": 2,
       "version_minor": 0
      },
      "text/plain": [
       "Iteration:   0%|          | 0/479 [00:00<?, ?it/s]"
      ]
     },
     "metadata": {},
     "output_type": "display_data"
    },
    {
     "name": "stdout",
     "output_type": "stream",
     "text": [
      "2024-01-28 03:07:26 - Information Retrieval Evaluation on  dataset after epoch 5:\n",
      "2024-01-28 03:08:02 - Queries: 2184\n",
      "2024-01-28 03:08:02 - Corpus: 24093\n",
      "\n",
      "2024-01-28 03:08:02 - Score-Function: cos_sim\n",
      "2024-01-28 03:08:02 - Accuracy@1: 83.01%\n",
      "2024-01-28 03:08:02 - Accuracy@3: 92.54%\n",
      "2024-01-28 03:08:02 - Accuracy@5: 95.15%\n",
      "2024-01-28 03:08:02 - Accuracy@10: 97.25%\n",
      "2024-01-28 03:08:02 - Precision@1: 83.01%\n",
      "2024-01-28 03:08:02 - Precision@3: 30.85%\n",
      "2024-01-28 03:08:02 - Precision@5: 19.03%\n",
      "2024-01-28 03:08:02 - Precision@10: 9.73%\n",
      "2024-01-28 03:08:02 - Recall@1: 83.01%\n",
      "2024-01-28 03:08:02 - Recall@3: 92.54%\n",
      "2024-01-28 03:08:02 - Recall@5: 95.15%\n",
      "2024-01-28 03:08:02 - Recall@10: 97.25%\n",
      "2024-01-28 03:08:02 - MRR@10: 0.8825\n",
      "2024-01-28 03:08:02 - NDCG@10: 0.9046\n",
      "2024-01-28 03:08:02 - MAP@100: 0.8838\n",
      "2024-01-28 03:08:02 - Score-Function: dot_score\n",
      "2024-01-28 03:08:02 - Accuracy@1: 83.01%\n",
      "2024-01-28 03:08:02 - Accuracy@3: 92.54%\n",
      "2024-01-28 03:08:02 - Accuracy@5: 95.15%\n",
      "2024-01-28 03:08:02 - Accuracy@10: 97.25%\n",
      "2024-01-28 03:08:02 - Precision@1: 83.01%\n",
      "2024-01-28 03:08:02 - Precision@3: 30.85%\n",
      "2024-01-28 03:08:02 - Precision@5: 19.03%\n",
      "2024-01-28 03:08:02 - Precision@10: 9.73%\n",
      "2024-01-28 03:08:02 - Recall@1: 83.01%\n",
      "2024-01-28 03:08:02 - Recall@3: 92.54%\n",
      "2024-01-28 03:08:02 - Recall@5: 95.15%\n",
      "2024-01-28 03:08:02 - Recall@10: 97.25%\n",
      "2024-01-28 03:08:02 - MRR@10: 0.8825\n",
      "2024-01-28 03:08:02 - NDCG@10: 0.9046\n",
      "2024-01-28 03:08:02 - MAP@100: 0.8838\n"
     ]
    },
    {
     "data": {
      "application/vnd.jupyter.widget-view+json": {
       "model_id": "48867ff029f14d49aac3a197ecd94548",
       "version_major": 2,
       "version_minor": 0
      },
      "text/plain": [
       "Iteration:   0%|          | 0/479 [00:00<?, ?it/s]"
      ]
     },
     "metadata": {},
     "output_type": "display_data"
    },
    {
     "name": "stdout",
     "output_type": "stream",
     "text": [
      "2024-01-28 03:09:33 - Information Retrieval Evaluation on  dataset after epoch 6:\n",
      "2024-01-28 03:10:09 - Queries: 2184\n",
      "2024-01-28 03:10:09 - Corpus: 24093\n",
      "\n",
      "2024-01-28 03:10:10 - Score-Function: cos_sim\n",
      "2024-01-28 03:10:10 - Accuracy@1: 82.88%\n",
      "2024-01-28 03:10:10 - Accuracy@3: 92.77%\n",
      "2024-01-28 03:10:10 - Accuracy@5: 95.05%\n",
      "2024-01-28 03:10:10 - Accuracy@10: 97.48%\n",
      "2024-01-28 03:10:10 - Precision@1: 82.88%\n",
      "2024-01-28 03:10:10 - Precision@3: 30.92%\n",
      "2024-01-28 03:10:10 - Precision@5: 19.01%\n",
      "2024-01-28 03:10:10 - Precision@10: 9.75%\n",
      "2024-01-28 03:10:10 - Recall@1: 82.88%\n",
      "2024-01-28 03:10:10 - Recall@3: 92.77%\n",
      "2024-01-28 03:10:10 - Recall@5: 95.05%\n",
      "2024-01-28 03:10:10 - Recall@10: 97.48%\n",
      "2024-01-28 03:10:10 - MRR@10: 0.8818\n",
      "2024-01-28 03:10:10 - NDCG@10: 0.9046\n",
      "2024-01-28 03:10:10 - MAP@100: 0.8829\n",
      "2024-01-28 03:10:10 - Score-Function: dot_score\n",
      "2024-01-28 03:10:10 - Accuracy@1: 82.83%\n",
      "2024-01-28 03:10:10 - Accuracy@3: 92.72%\n",
      "2024-01-28 03:10:10 - Accuracy@5: 95.05%\n",
      "2024-01-28 03:10:10 - Accuracy@10: 97.48%\n",
      "2024-01-28 03:10:10 - Precision@1: 82.83%\n",
      "2024-01-28 03:10:10 - Precision@3: 30.91%\n",
      "2024-01-28 03:10:10 - Precision@5: 19.01%\n",
      "2024-01-28 03:10:10 - Precision@10: 9.75%\n",
      "2024-01-28 03:10:10 - Recall@1: 82.83%\n",
      "2024-01-28 03:10:10 - Recall@3: 92.72%\n",
      "2024-01-28 03:10:10 - Recall@5: 95.05%\n",
      "2024-01-28 03:10:10 - Recall@10: 97.48%\n",
      "2024-01-28 03:10:10 - MRR@10: 0.8815\n",
      "2024-01-28 03:10:10 - NDCG@10: 0.9044\n",
      "2024-01-28 03:10:10 - MAP@100: 0.8826\n"
     ]
    },
    {
     "data": {
      "application/vnd.jupyter.widget-view+json": {
       "model_id": "9d0aee0c55254ad0a41558ad9b50ae2b",
       "version_major": 2,
       "version_minor": 0
      },
      "text/plain": [
       "Iteration:   0%|          | 0/479 [00:00<?, ?it/s]"
      ]
     },
     "metadata": {},
     "output_type": "display_data"
    },
    {
     "name": "stdout",
     "output_type": "stream",
     "text": [
      "2024-01-28 03:11:42 - Information Retrieval Evaluation on  dataset after epoch 7:\n",
      "2024-01-28 03:12:17 - Queries: 2184\n",
      "2024-01-28 03:12:17 - Corpus: 24093\n",
      "\n",
      "2024-01-28 03:12:18 - Score-Function: cos_sim\n",
      "2024-01-28 03:12:18 - Accuracy@1: 83.15%\n",
      "2024-01-28 03:12:18 - Accuracy@3: 92.54%\n",
      "2024-01-28 03:12:18 - Accuracy@5: 94.92%\n",
      "2024-01-28 03:12:18 - Accuracy@10: 97.21%\n",
      "2024-01-28 03:12:18 - Precision@1: 83.15%\n",
      "2024-01-28 03:12:18 - Precision@3: 30.85%\n",
      "2024-01-28 03:12:18 - Precision@5: 18.98%\n",
      "2024-01-28 03:12:18 - Precision@10: 9.72%\n",
      "2024-01-28 03:12:18 - Recall@1: 83.15%\n",
      "2024-01-28 03:12:18 - Recall@3: 92.54%\n",
      "2024-01-28 03:12:18 - Recall@5: 94.92%\n",
      "2024-01-28 03:12:18 - Recall@10: 97.21%\n",
      "2024-01-28 03:12:18 - MRR@10: 0.8821\n",
      "2024-01-28 03:12:18 - NDCG@10: 0.9041\n",
      "2024-01-28 03:12:18 - MAP@100: 0.8833\n",
      "2024-01-28 03:12:18 - Score-Function: dot_score\n",
      "2024-01-28 03:12:18 - Accuracy@1: 83.15%\n",
      "2024-01-28 03:12:18 - Accuracy@3: 92.54%\n",
      "2024-01-28 03:12:18 - Accuracy@5: 94.92%\n",
      "2024-01-28 03:12:18 - Accuracy@10: 97.21%\n",
      "2024-01-28 03:12:18 - Precision@1: 83.15%\n",
      "2024-01-28 03:12:18 - Precision@3: 30.85%\n",
      "2024-01-28 03:12:18 - Precision@5: 18.98%\n",
      "2024-01-28 03:12:18 - Precision@10: 9.72%\n",
      "2024-01-28 03:12:18 - Recall@1: 83.15%\n",
      "2024-01-28 03:12:18 - Recall@3: 92.54%\n",
      "2024-01-28 03:12:18 - Recall@5: 94.92%\n",
      "2024-01-28 03:12:18 - Recall@10: 97.21%\n",
      "2024-01-28 03:12:18 - MRR@10: 0.8821\n",
      "2024-01-28 03:12:18 - NDCG@10: 0.9041\n",
      "2024-01-28 03:12:18 - MAP@100: 0.8833\n"
     ]
    },
    {
     "data": {
      "application/vnd.jupyter.widget-view+json": {
       "model_id": "1b7a18a0aca4409195dd98196722b552",
       "version_major": 2,
       "version_minor": 0
      },
      "text/plain": [
       "Iteration:   0%|          | 0/479 [00:00<?, ?it/s]"
      ]
     },
     "metadata": {},
     "output_type": "display_data"
    },
    {
     "name": "stdout",
     "output_type": "stream",
     "text": [
      "2024-01-28 03:13:49 - Information Retrieval Evaluation on  dataset after epoch 8:\n",
      "2024-01-28 03:14:25 - Queries: 2184\n",
      "2024-01-28 03:14:25 - Corpus: 24093\n",
      "\n",
      "2024-01-28 03:14:25 - Score-Function: cos_sim\n",
      "2024-01-28 03:14:25 - Accuracy@1: 83.42%\n",
      "2024-01-28 03:14:25 - Accuracy@3: 92.90%\n",
      "2024-01-28 03:14:25 - Accuracy@5: 95.19%\n",
      "2024-01-28 03:14:25 - Accuracy@10: 97.39%\n",
      "2024-01-28 03:14:25 - Precision@1: 83.42%\n",
      "2024-01-28 03:14:25 - Precision@3: 30.97%\n",
      "2024-01-28 03:14:25 - Precision@5: 19.04%\n",
      "2024-01-28 03:14:25 - Precision@10: 9.74%\n",
      "2024-01-28 03:14:25 - Recall@1: 83.42%\n",
      "2024-01-28 03:14:25 - Recall@3: 92.90%\n",
      "2024-01-28 03:14:25 - Recall@5: 95.19%\n",
      "2024-01-28 03:14:25 - Recall@10: 97.39%\n",
      "2024-01-28 03:14:25 - MRR@10: 0.8848\n",
      "2024-01-28 03:14:25 - NDCG@10: 0.9067\n",
      "2024-01-28 03:14:25 - MAP@100: 0.8860\n",
      "2024-01-28 03:14:25 - Score-Function: dot_score\n",
      "2024-01-28 03:14:25 - Accuracy@1: 83.33%\n",
      "2024-01-28 03:14:25 - Accuracy@3: 92.90%\n",
      "2024-01-28 03:14:25 - Accuracy@5: 95.19%\n",
      "2024-01-28 03:14:25 - Accuracy@10: 97.39%\n",
      "2024-01-28 03:14:25 - Precision@1: 83.33%\n",
      "2024-01-28 03:14:25 - Precision@3: 30.97%\n",
      "2024-01-28 03:14:25 - Precision@5: 19.04%\n",
      "2024-01-28 03:14:25 - Precision@10: 9.74%\n",
      "2024-01-28 03:14:25 - Recall@1: 83.33%\n",
      "2024-01-28 03:14:25 - Recall@3: 92.90%\n",
      "2024-01-28 03:14:25 - Recall@5: 95.19%\n",
      "2024-01-28 03:14:25 - Recall@10: 97.39%\n",
      "2024-01-28 03:14:25 - MRR@10: 0.8843\n",
      "2024-01-28 03:14:25 - NDCG@10: 0.9063\n",
      "2024-01-28 03:14:25 - MAP@100: 0.8856\n"
     ]
    },
    {
     "data": {
      "application/vnd.jupyter.widget-view+json": {
       "model_id": "3b9a5dec50f548a185773506d7d3ab7e",
       "version_major": 2,
       "version_minor": 0
      },
      "text/plain": [
       "Iteration:   0%|          | 0/479 [00:00<?, ?it/s]"
      ]
     },
     "metadata": {},
     "output_type": "display_data"
    },
    {
     "name": "stdout",
     "output_type": "stream",
     "text": [
      "2024-01-28 03:15:56 - Information Retrieval Evaluation on  dataset after epoch 9:\n",
      "2024-01-28 03:16:32 - Queries: 2184\n",
      "2024-01-28 03:16:32 - Corpus: 24093\n",
      "\n",
      "2024-01-28 03:16:33 - Score-Function: cos_sim\n",
      "2024-01-28 03:16:33 - Accuracy@1: 83.42%\n",
      "2024-01-28 03:16:33 - Accuracy@3: 92.77%\n",
      "2024-01-28 03:16:33 - Accuracy@5: 95.10%\n",
      "2024-01-28 03:16:33 - Accuracy@10: 97.34%\n",
      "2024-01-28 03:16:33 - Precision@1: 83.42%\n",
      "2024-01-28 03:16:33 - Precision@3: 30.92%\n",
      "2024-01-28 03:16:33 - Precision@5: 19.02%\n",
      "2024-01-28 03:16:33 - Precision@10: 9.73%\n",
      "2024-01-28 03:16:33 - Recall@1: 83.42%\n",
      "2024-01-28 03:16:33 - Recall@3: 92.77%\n",
      "2024-01-28 03:16:33 - Recall@5: 95.10%\n",
      "2024-01-28 03:16:33 - Recall@10: 97.34%\n",
      "2024-01-28 03:16:33 - MRR@10: 0.8844\n",
      "2024-01-28 03:16:33 - NDCG@10: 0.9063\n",
      "2024-01-28 03:16:33 - MAP@100: 0.8856\n",
      "2024-01-28 03:16:33 - Score-Function: dot_score\n",
      "2024-01-28 03:16:33 - Accuracy@1: 83.42%\n",
      "2024-01-28 03:16:33 - Accuracy@3: 92.77%\n",
      "2024-01-28 03:16:33 - Accuracy@5: 95.10%\n",
      "2024-01-28 03:16:33 - Accuracy@10: 97.34%\n",
      "2024-01-28 03:16:33 - Precision@1: 83.42%\n",
      "2024-01-28 03:16:33 - Precision@3: 30.92%\n",
      "2024-01-28 03:16:33 - Precision@5: 19.02%\n",
      "2024-01-28 03:16:33 - Precision@10: 9.73%\n",
      "2024-01-28 03:16:33 - Recall@1: 83.42%\n",
      "2024-01-28 03:16:33 - Recall@3: 92.77%\n",
      "2024-01-28 03:16:33 - Recall@5: 95.10%\n",
      "2024-01-28 03:16:33 - Recall@10: 97.34%\n",
      "2024-01-28 03:16:33 - MRR@10: 0.8844\n",
      "2024-01-28 03:16:33 - NDCG@10: 0.9063\n",
      "2024-01-28 03:16:33 - MAP@100: 0.8856\n",
      "CPU times: user 33min 51s, sys: 3min 57s, total: 37min 48s\n",
      "Wall time: 21min 23s\n"
     ]
    }
   ],
   "source": [
    "%%time\n",
    "base_model_name = 'sentence-transformers/all-mpnet-base-v2'\n",
    "\n",
    "input_examples = []\n",
    "for data in combined_train_data:\n",
    "    if data['negs']:\n",
    "        input_examples.append(InputExample(texts=[data['query'], data['pos'],data['negs'][0]]))\n",
    "        \n",
    "train_config ={\n",
    "        \"base_model\": base_model_name,\n",
    "        \"epochs\": 10,\n",
    "        \"train_batch_size\" : 44,\n",
    "        \"warmup_steps\": 50,\n",
    "        \"max_length\": 512,\n",
    "        \"device\": 'cuda',\n",
    "        \"train\": True\n",
    "}\n",
    "\n",
    "train(train_config, input_examples, test_queries, test_passages, test_relevant_docs)"
   ]
  },
  {
   "cell_type": "markdown",
   "id": "5a2152d0-c2aa-4c4e-8444-15bb54cddf9e",
   "metadata": {},
   "source": [
    "### v4.0 Base modle with 44 as the batch size, with the only the synth data, add Title to the passage context"
   ]
  },
  {
   "cell_type": "code",
   "execution_count": 45,
   "id": "eaa68609-221b-49f8-9a63-e70d0387c7a3",
   "metadata": {
    "collapsed": true,
    "jupyter": {
     "outputs_hidden": true
    }
   },
   "outputs": [
    {
     "name": "stdout",
     "output_type": "stream",
     "text": [
      "2024-01-28 16:01:35 - Load pretrained SentenceTransformer: sentence-transformers/all-mpnet-base-v2\n",
      "2024-01-28 16:01:35 - Use pytorch device: cuda\n",
      "2024-01-28 16:01:35 - Warmup-steps: 182\n"
     ]
    },
    {
     "data": {
      "application/vnd.jupyter.widget-view+json": {
       "model_id": "df71cce47d364404bcbf0017b650e6f9",
       "version_major": 2,
       "version_minor": 0
      },
      "text/plain": [
       "Epoch:   0%|          | 0/10 [00:00<?, ?it/s]"
      ]
     },
     "metadata": {},
     "output_type": "display_data"
    },
    {
     "data": {
      "application/vnd.jupyter.widget-view+json": {
       "model_id": "9cd0894486a64684bf679ff044b5c59e",
       "version_major": 2,
       "version_minor": 0
      },
      "text/plain": [
       "Iteration:   0%|          | 0/182 [00:00<?, ?it/s]"
      ]
     },
     "metadata": {},
     "output_type": "display_data"
    },
    {
     "name": "stdout",
     "output_type": "stream",
     "text": [
      "2024-01-28 16:02:32 - Information Retrieval Evaluation on  dataset after epoch 0:\n",
      "2024-01-28 16:03:08 - Queries: 2184\n",
      "2024-01-28 16:03:08 - Corpus: 24093\n",
      "\n",
      "2024-01-28 16:03:08 - Score-Function: cos_sim\n",
      "2024-01-28 16:03:08 - Accuracy@1: 83.38%\n",
      "2024-01-28 16:03:08 - Accuracy@3: 94.78%\n",
      "2024-01-28 16:03:08 - Accuracy@5: 97.12%\n",
      "2024-01-28 16:03:08 - Accuracy@10: 98.58%\n",
      "2024-01-28 16:03:08 - Precision@1: 83.38%\n",
      "2024-01-28 16:03:08 - Precision@3: 31.59%\n",
      "2024-01-28 16:03:08 - Precision@5: 19.42%\n",
      "2024-01-28 16:03:08 - Precision@10: 9.86%\n",
      "2024-01-28 16:03:08 - Recall@1: 83.38%\n",
      "2024-01-28 16:03:08 - Recall@3: 94.78%\n",
      "2024-01-28 16:03:08 - Recall@5: 97.12%\n",
      "2024-01-28 16:03:08 - Recall@10: 98.58%\n",
      "2024-01-28 16:03:08 - MRR@10: 0.8938\n",
      "2024-01-28 16:03:08 - NDCG@10: 0.9167\n",
      "2024-01-28 16:03:08 - MAP@100: 0.8944\n",
      "2024-01-28 16:03:08 - Score-Function: dot_score\n",
      "2024-01-28 16:03:08 - Accuracy@1: 83.29%\n",
      "2024-01-28 16:03:08 - Accuracy@3: 94.78%\n",
      "2024-01-28 16:03:08 - Accuracy@5: 97.12%\n",
      "2024-01-28 16:03:08 - Accuracy@10: 98.53%\n",
      "2024-01-28 16:03:08 - Precision@1: 83.29%\n",
      "2024-01-28 16:03:08 - Precision@3: 31.59%\n",
      "2024-01-28 16:03:08 - Precision@5: 19.42%\n",
      "2024-01-28 16:03:08 - Precision@10: 9.85%\n",
      "2024-01-28 16:03:08 - Recall@1: 83.29%\n",
      "2024-01-28 16:03:08 - Recall@3: 94.78%\n",
      "2024-01-28 16:03:08 - Recall@5: 97.12%\n",
      "2024-01-28 16:03:08 - Recall@10: 98.53%\n",
      "2024-01-28 16:03:08 - MRR@10: 0.8933\n",
      "2024-01-28 16:03:08 - NDCG@10: 0.9163\n",
      "2024-01-28 16:03:08 - MAP@100: 0.8939\n",
      "2024-01-28 16:03:08 - Save model to train_embedder/models/sentence-transformers-all-mpnet-base-v2-2024-01-28_16-01-35\n"
     ]
    },
    {
     "data": {
      "application/vnd.jupyter.widget-view+json": {
       "model_id": "fd59d86011c1468eafd22fe0c6f3d187",
       "version_major": 2,
       "version_minor": 0
      },
      "text/plain": [
       "Iteration:   0%|          | 0/182 [00:00<?, ?it/s]"
      ]
     },
     "metadata": {},
     "output_type": "display_data"
    },
    {
     "name": "stdout",
     "output_type": "stream",
     "text": [
      "2024-01-28 16:04:05 - Information Retrieval Evaluation on  dataset after epoch 1:\n",
      "2024-01-28 16:04:41 - Queries: 2184\n",
      "2024-01-28 16:04:41 - Corpus: 24093\n",
      "\n",
      "2024-01-28 16:04:41 - Score-Function: cos_sim\n",
      "2024-01-28 16:04:41 - Accuracy@1: 82.37%\n",
      "2024-01-28 16:04:41 - Accuracy@3: 94.05%\n",
      "2024-01-28 16:04:41 - Accuracy@5: 96.57%\n",
      "2024-01-28 16:04:41 - Accuracy@10: 98.12%\n",
      "2024-01-28 16:04:41 - Precision@1: 82.37%\n",
      "2024-01-28 16:04:41 - Precision@3: 31.35%\n",
      "2024-01-28 16:04:41 - Precision@5: 19.31%\n",
      "2024-01-28 16:04:41 - Precision@10: 9.81%\n",
      "2024-01-28 16:04:41 - Recall@1: 82.37%\n",
      "2024-01-28 16:04:41 - Recall@3: 94.05%\n",
      "2024-01-28 16:04:41 - Recall@5: 96.57%\n",
      "2024-01-28 16:04:41 - Recall@10: 98.12%\n",
      "2024-01-28 16:04:41 - MRR@10: 0.8855\n",
      "2024-01-28 16:04:41 - NDCG@10: 0.9093\n",
      "2024-01-28 16:04:41 - MAP@100: 0.8863\n",
      "2024-01-28 16:04:41 - Score-Function: dot_score\n",
      "2024-01-28 16:04:41 - Accuracy@1: 82.42%\n",
      "2024-01-28 16:04:41 - Accuracy@3: 94.00%\n",
      "2024-01-28 16:04:41 - Accuracy@5: 96.57%\n",
      "2024-01-28 16:04:41 - Accuracy@10: 98.12%\n",
      "2024-01-28 16:04:41 - Precision@1: 82.42%\n",
      "2024-01-28 16:04:41 - Precision@3: 31.33%\n",
      "2024-01-28 16:04:41 - Precision@5: 19.31%\n",
      "2024-01-28 16:04:41 - Precision@10: 9.81%\n",
      "2024-01-28 16:04:41 - Recall@1: 82.42%\n",
      "2024-01-28 16:04:41 - Recall@3: 94.00%\n",
      "2024-01-28 16:04:41 - Recall@5: 96.57%\n",
      "2024-01-28 16:04:41 - Recall@10: 98.12%\n",
      "2024-01-28 16:04:41 - MRR@10: 0.8857\n",
      "2024-01-28 16:04:41 - NDCG@10: 0.9095\n",
      "2024-01-28 16:04:41 - MAP@100: 0.8865\n"
     ]
    },
    {
     "data": {
      "application/vnd.jupyter.widget-view+json": {
       "model_id": "46d557ad242948f9970a9e827658846b",
       "version_major": 2,
       "version_minor": 0
      },
      "text/plain": [
       "Iteration:   0%|          | 0/182 [00:00<?, ?it/s]"
      ]
     },
     "metadata": {},
     "output_type": "display_data"
    },
    {
     "name": "stdout",
     "output_type": "stream",
     "text": [
      "2024-01-28 16:05:39 - Information Retrieval Evaluation on  dataset after epoch 2:\n",
      "2024-01-28 16:06:15 - Queries: 2184\n",
      "2024-01-28 16:06:15 - Corpus: 24093\n",
      "\n",
      "2024-01-28 16:06:16 - Score-Function: cos_sim\n",
      "2024-01-28 16:06:16 - Accuracy@1: 81.91%\n",
      "2024-01-28 16:06:16 - Accuracy@3: 93.96%\n",
      "2024-01-28 16:06:16 - Accuracy@5: 96.25%\n",
      "2024-01-28 16:06:16 - Accuracy@10: 98.08%\n",
      "2024-01-28 16:06:16 - Precision@1: 81.91%\n",
      "2024-01-28 16:06:16 - Precision@3: 31.32%\n",
      "2024-01-28 16:06:16 - Precision@5: 19.25%\n",
      "2024-01-28 16:06:16 - Precision@10: 9.81%\n",
      "2024-01-28 16:06:16 - Recall@1: 81.91%\n",
      "2024-01-28 16:06:16 - Recall@3: 93.96%\n",
      "2024-01-28 16:06:16 - Recall@5: 96.25%\n",
      "2024-01-28 16:06:16 - Recall@10: 98.08%\n",
      "2024-01-28 16:06:16 - MRR@10: 0.8827\n",
      "2024-01-28 16:06:16 - NDCG@10: 0.9071\n",
      "2024-01-28 16:06:16 - MAP@100: 0.8835\n",
      "2024-01-28 16:06:16 - Score-Function: dot_score\n",
      "2024-01-28 16:06:16 - Accuracy@1: 81.91%\n",
      "2024-01-28 16:06:16 - Accuracy@3: 93.96%\n",
      "2024-01-28 16:06:16 - Accuracy@5: 96.25%\n",
      "2024-01-28 16:06:16 - Accuracy@10: 98.08%\n",
      "2024-01-28 16:06:16 - Precision@1: 81.91%\n",
      "2024-01-28 16:06:16 - Precision@3: 31.32%\n",
      "2024-01-28 16:06:16 - Precision@5: 19.25%\n",
      "2024-01-28 16:06:16 - Precision@10: 9.81%\n",
      "2024-01-28 16:06:16 - Recall@1: 81.91%\n",
      "2024-01-28 16:06:16 - Recall@3: 93.96%\n",
      "2024-01-28 16:06:16 - Recall@5: 96.25%\n",
      "2024-01-28 16:06:16 - Recall@10: 98.08%\n",
      "2024-01-28 16:06:16 - MRR@10: 0.8827\n",
      "2024-01-28 16:06:16 - NDCG@10: 0.9071\n",
      "2024-01-28 16:06:16 - MAP@100: 0.8835\n"
     ]
    },
    {
     "data": {
      "application/vnd.jupyter.widget-view+json": {
       "model_id": "7b869e3c1bdf460fa0173212a178504a",
       "version_major": 2,
       "version_minor": 0
      },
      "text/plain": [
       "Iteration:   0%|          | 0/182 [00:00<?, ?it/s]"
      ]
     },
     "metadata": {},
     "output_type": "display_data"
    },
    {
     "name": "stdout",
     "output_type": "stream",
     "text": [
      "2024-01-28 16:07:12 - Information Retrieval Evaluation on  dataset after epoch 3:\n",
      "2024-01-28 16:07:48 - Queries: 2184\n",
      "2024-01-28 16:07:48 - Corpus: 24093\n",
      "\n",
      "2024-01-28 16:07:48 - Score-Function: cos_sim\n",
      "2024-01-28 16:07:48 - Accuracy@1: 82.65%\n",
      "2024-01-28 16:07:48 - Accuracy@3: 94.28%\n",
      "2024-01-28 16:07:48 - Accuracy@5: 96.66%\n",
      "2024-01-28 16:07:48 - Accuracy@10: 98.21%\n",
      "2024-01-28 16:07:48 - Precision@1: 82.65%\n",
      "2024-01-28 16:07:48 - Precision@3: 31.43%\n",
      "2024-01-28 16:07:48 - Precision@5: 19.33%\n",
      "2024-01-28 16:07:48 - Precision@10: 9.82%\n",
      "2024-01-28 16:07:48 - Recall@1: 82.65%\n",
      "2024-01-28 16:07:48 - Recall@3: 94.28%\n",
      "2024-01-28 16:07:48 - Recall@5: 96.66%\n",
      "2024-01-28 16:07:48 - Recall@10: 98.21%\n",
      "2024-01-28 16:07:48 - MRR@10: 0.8883\n",
      "2024-01-28 16:07:48 - NDCG@10: 0.9117\n",
      "2024-01-28 16:07:48 - MAP@100: 0.8891\n",
      "2024-01-28 16:07:48 - Score-Function: dot_score\n",
      "2024-01-28 16:07:48 - Accuracy@1: 82.60%\n",
      "2024-01-28 16:07:48 - Accuracy@3: 94.28%\n",
      "2024-01-28 16:07:48 - Accuracy@5: 96.66%\n",
      "2024-01-28 16:07:48 - Accuracy@10: 98.21%\n",
      "2024-01-28 16:07:48 - Precision@1: 82.60%\n",
      "2024-01-28 16:07:48 - Precision@3: 31.43%\n",
      "2024-01-28 16:07:48 - Precision@5: 19.33%\n",
      "2024-01-28 16:07:48 - Precision@10: 9.82%\n",
      "2024-01-28 16:07:48 - Recall@1: 82.60%\n",
      "2024-01-28 16:07:48 - Recall@3: 94.28%\n",
      "2024-01-28 16:07:48 - Recall@5: 96.66%\n",
      "2024-01-28 16:07:48 - Recall@10: 98.21%\n",
      "2024-01-28 16:07:48 - MRR@10: 0.8881\n",
      "2024-01-28 16:07:48 - NDCG@10: 0.9115\n",
      "2024-01-28 16:07:48 - MAP@100: 0.8889\n"
     ]
    },
    {
     "data": {
      "application/vnd.jupyter.widget-view+json": {
       "model_id": "cfbb334a1c59481caa95b440ee7c6748",
       "version_major": 2,
       "version_minor": 0
      },
      "text/plain": [
       "Iteration:   0%|          | 0/182 [00:00<?, ?it/s]"
      ]
     },
     "metadata": {},
     "output_type": "display_data"
    },
    {
     "name": "stdout",
     "output_type": "stream",
     "text": [
      "2024-01-28 16:08:46 - Information Retrieval Evaluation on  dataset after epoch 4:\n",
      "2024-01-28 16:09:22 - Queries: 2184\n",
      "2024-01-28 16:09:22 - Corpus: 24093\n",
      "\n",
      "2024-01-28 16:09:22 - Score-Function: cos_sim\n",
      "2024-01-28 16:09:22 - Accuracy@1: 81.78%\n",
      "2024-01-28 16:09:22 - Accuracy@3: 93.82%\n",
      "2024-01-28 16:09:22 - Accuracy@5: 96.29%\n",
      "2024-01-28 16:09:22 - Accuracy@10: 97.94%\n",
      "2024-01-28 16:09:22 - Precision@1: 81.78%\n",
      "2024-01-28 16:09:22 - Precision@3: 31.27%\n",
      "2024-01-28 16:09:22 - Precision@5: 19.26%\n",
      "2024-01-28 16:09:22 - Precision@10: 9.79%\n",
      "2024-01-28 16:09:22 - Recall@1: 81.78%\n",
      "2024-01-28 16:09:22 - Recall@3: 93.82%\n",
      "2024-01-28 16:09:22 - Recall@5: 96.29%\n",
      "2024-01-28 16:09:22 - Recall@10: 97.94%\n",
      "2024-01-28 16:09:22 - MRR@10: 0.8817\n",
      "2024-01-28 16:09:22 - NDCG@10: 0.9060\n",
      "2024-01-28 16:09:22 - MAP@100: 0.8827\n",
      "2024-01-28 16:09:22 - Score-Function: dot_score\n",
      "2024-01-28 16:09:22 - Accuracy@1: 81.64%\n",
      "2024-01-28 16:09:22 - Accuracy@3: 93.82%\n",
      "2024-01-28 16:09:22 - Accuracy@5: 96.29%\n",
      "2024-01-28 16:09:22 - Accuracy@10: 97.94%\n",
      "2024-01-28 16:09:22 - Precision@1: 81.64%\n",
      "2024-01-28 16:09:22 - Precision@3: 31.27%\n",
      "2024-01-28 16:09:22 - Precision@5: 19.26%\n",
      "2024-01-28 16:09:22 - Precision@10: 9.79%\n",
      "2024-01-28 16:09:22 - Recall@1: 81.64%\n",
      "2024-01-28 16:09:22 - Recall@3: 93.82%\n",
      "2024-01-28 16:09:22 - Recall@5: 96.29%\n",
      "2024-01-28 16:09:22 - Recall@10: 97.94%\n",
      "2024-01-28 16:09:22 - MRR@10: 0.8810\n",
      "2024-01-28 16:09:22 - NDCG@10: 0.9055\n",
      "2024-01-28 16:09:22 - MAP@100: 0.8820\n"
     ]
    },
    {
     "data": {
      "application/vnd.jupyter.widget-view+json": {
       "model_id": "03f65441edcd4c138f949732eadf119d",
       "version_major": 2,
       "version_minor": 0
      },
      "text/plain": [
       "Iteration:   0%|          | 0/182 [00:00<?, ?it/s]"
      ]
     },
     "metadata": {},
     "output_type": "display_data"
    },
    {
     "name": "stdout",
     "output_type": "stream",
     "text": [
      "2024-01-28 16:10:19 - Information Retrieval Evaluation on  dataset after epoch 5:\n",
      "2024-01-28 16:10:55 - Queries: 2184\n",
      "2024-01-28 16:10:55 - Corpus: 24093\n",
      "\n",
      "2024-01-28 16:10:55 - Score-Function: cos_sim\n",
      "2024-01-28 16:10:55 - Accuracy@1: 82.23%\n",
      "2024-01-28 16:10:55 - Accuracy@3: 93.59%\n",
      "2024-01-28 16:10:55 - Accuracy@5: 96.34%\n",
      "2024-01-28 16:10:55 - Accuracy@10: 97.94%\n",
      "2024-01-28 16:10:55 - Precision@1: 82.23%\n",
      "2024-01-28 16:10:55 - Precision@3: 31.20%\n",
      "2024-01-28 16:10:55 - Precision@5: 19.27%\n",
      "2024-01-28 16:10:55 - Precision@10: 9.79%\n",
      "2024-01-28 16:10:55 - Recall@1: 82.23%\n",
      "2024-01-28 16:10:55 - Recall@3: 93.59%\n",
      "2024-01-28 16:10:55 - Recall@5: 96.34%\n",
      "2024-01-28 16:10:55 - Recall@10: 97.94%\n",
      "2024-01-28 16:10:55 - MRR@10: 0.8841\n",
      "2024-01-28 16:10:55 - NDCG@10: 0.9078\n",
      "2024-01-28 16:10:55 - MAP@100: 0.8851\n",
      "2024-01-28 16:10:55 - Score-Function: dot_score\n",
      "2024-01-28 16:10:55 - Accuracy@1: 82.19%\n",
      "2024-01-28 16:10:55 - Accuracy@3: 93.59%\n",
      "2024-01-28 16:10:55 - Accuracy@5: 96.34%\n",
      "2024-01-28 16:10:55 - Accuracy@10: 97.99%\n",
      "2024-01-28 16:10:55 - Precision@1: 82.19%\n",
      "2024-01-28 16:10:55 - Precision@3: 31.20%\n",
      "2024-01-28 16:10:55 - Precision@5: 19.27%\n",
      "2024-01-28 16:10:55 - Precision@10: 9.80%\n",
      "2024-01-28 16:10:55 - Recall@1: 82.19%\n",
      "2024-01-28 16:10:55 - Recall@3: 93.59%\n",
      "2024-01-28 16:10:55 - Recall@5: 96.34%\n",
      "2024-01-28 16:10:55 - Recall@10: 97.99%\n",
      "2024-01-28 16:10:55 - MRR@10: 0.8838\n",
      "2024-01-28 16:10:55 - NDCG@10: 0.9077\n",
      "2024-01-28 16:10:55 - MAP@100: 0.8848\n"
     ]
    },
    {
     "data": {
      "application/vnd.jupyter.widget-view+json": {
       "model_id": "3a1023302ba64565904e8304d4803a5c",
       "version_major": 2,
       "version_minor": 0
      },
      "text/plain": [
       "Iteration:   0%|          | 0/182 [00:00<?, ?it/s]"
      ]
     },
     "metadata": {},
     "output_type": "display_data"
    },
    {
     "name": "stdout",
     "output_type": "stream",
     "text": [
      "2024-01-28 16:11:53 - Information Retrieval Evaluation on  dataset after epoch 6:\n",
      "2024-01-28 16:12:29 - Queries: 2184\n",
      "2024-01-28 16:12:29 - Corpus: 24093\n",
      "\n",
      "2024-01-28 16:12:29 - Score-Function: cos_sim\n",
      "2024-01-28 16:12:29 - Accuracy@1: 82.65%\n",
      "2024-01-28 16:12:29 - Accuracy@3: 94.23%\n",
      "2024-01-28 16:12:29 - Accuracy@5: 96.47%\n",
      "2024-01-28 16:12:29 - Accuracy@10: 98.17%\n",
      "2024-01-28 16:12:29 - Precision@1: 82.65%\n",
      "2024-01-28 16:12:29 - Precision@3: 31.41%\n",
      "2024-01-28 16:12:29 - Precision@5: 19.29%\n",
      "2024-01-28 16:12:29 - Precision@10: 9.82%\n",
      "2024-01-28 16:12:29 - Recall@1: 82.65%\n",
      "2024-01-28 16:12:29 - Recall@3: 94.23%\n",
      "2024-01-28 16:12:29 - Recall@5: 96.47%\n",
      "2024-01-28 16:12:29 - Recall@10: 98.17%\n",
      "2024-01-28 16:12:29 - MRR@10: 0.8880\n",
      "2024-01-28 16:12:29 - NDCG@10: 0.9113\n",
      "2024-01-28 16:12:29 - MAP@100: 0.8888\n",
      "2024-01-28 16:12:29 - Score-Function: dot_score\n",
      "2024-01-28 16:12:29 - Accuracy@1: 82.55%\n",
      "2024-01-28 16:12:29 - Accuracy@3: 94.23%\n",
      "2024-01-28 16:12:29 - Accuracy@5: 96.47%\n",
      "2024-01-28 16:12:29 - Accuracy@10: 98.17%\n",
      "2024-01-28 16:12:29 - Precision@1: 82.55%\n",
      "2024-01-28 16:12:29 - Precision@3: 31.41%\n",
      "2024-01-28 16:12:29 - Precision@5: 19.29%\n",
      "2024-01-28 16:12:29 - Precision@10: 9.82%\n",
      "2024-01-28 16:12:29 - Recall@1: 82.55%\n",
      "2024-01-28 16:12:29 - Recall@3: 94.23%\n",
      "2024-01-28 16:12:29 - Recall@5: 96.47%\n",
      "2024-01-28 16:12:29 - Recall@10: 98.17%\n",
      "2024-01-28 16:12:29 - MRR@10: 0.8875\n",
      "2024-01-28 16:12:29 - NDCG@10: 0.9110\n",
      "2024-01-28 16:12:29 - MAP@100: 0.8884\n"
     ]
    },
    {
     "data": {
      "application/vnd.jupyter.widget-view+json": {
       "model_id": "55a8f2093545434686d7e9286988c98b",
       "version_major": 2,
       "version_minor": 0
      },
      "text/plain": [
       "Iteration:   0%|          | 0/182 [00:00<?, ?it/s]"
      ]
     },
     "metadata": {},
     "output_type": "display_data"
    },
    {
     "name": "stdout",
     "output_type": "stream",
     "text": [
      "2024-01-28 16:13:26 - Information Retrieval Evaluation on  dataset after epoch 7:\n",
      "2024-01-28 16:14:02 - Queries: 2184\n",
      "2024-01-28 16:14:02 - Corpus: 24093\n",
      "\n",
      "2024-01-28 16:14:02 - Score-Function: cos_sim\n",
      "2024-01-28 16:14:02 - Accuracy@1: 82.78%\n",
      "2024-01-28 16:14:02 - Accuracy@3: 94.41%\n",
      "2024-01-28 16:14:02 - Accuracy@5: 96.70%\n",
      "2024-01-28 16:14:02 - Accuracy@10: 98.26%\n",
      "2024-01-28 16:14:02 - Precision@1: 82.78%\n",
      "2024-01-28 16:14:02 - Precision@3: 31.47%\n",
      "2024-01-28 16:14:02 - Precision@5: 19.34%\n",
      "2024-01-28 16:14:02 - Precision@10: 9.83%\n",
      "2024-01-28 16:14:02 - Recall@1: 82.78%\n",
      "2024-01-28 16:14:02 - Recall@3: 94.41%\n",
      "2024-01-28 16:14:02 - Recall@5: 96.70%\n",
      "2024-01-28 16:14:02 - Recall@10: 98.26%\n",
      "2024-01-28 16:14:02 - MRR@10: 0.8894\n",
      "2024-01-28 16:14:02 - NDCG@10: 0.9127\n",
      "2024-01-28 16:14:02 - MAP@100: 0.8903\n",
      "2024-01-28 16:14:02 - Score-Function: dot_score\n",
      "2024-01-28 16:14:02 - Accuracy@1: 82.74%\n",
      "2024-01-28 16:14:02 - Accuracy@3: 94.41%\n",
      "2024-01-28 16:14:02 - Accuracy@5: 96.70%\n",
      "2024-01-28 16:14:02 - Accuracy@10: 98.26%\n",
      "2024-01-28 16:14:02 - Precision@1: 82.74%\n",
      "2024-01-28 16:14:02 - Precision@3: 31.47%\n",
      "2024-01-28 16:14:02 - Precision@5: 19.34%\n",
      "2024-01-28 16:14:02 - Precision@10: 9.83%\n",
      "2024-01-28 16:14:02 - Recall@1: 82.74%\n",
      "2024-01-28 16:14:02 - Recall@3: 94.41%\n",
      "2024-01-28 16:14:02 - Recall@5: 96.70%\n",
      "2024-01-28 16:14:02 - Recall@10: 98.26%\n",
      "2024-01-28 16:14:02 - MRR@10: 0.8892\n",
      "2024-01-28 16:14:02 - NDCG@10: 0.9125\n",
      "2024-01-28 16:14:02 - MAP@100: 0.8900\n"
     ]
    },
    {
     "data": {
      "application/vnd.jupyter.widget-view+json": {
       "model_id": "ab206941fc5a45d8b123fb08a7c5c01f",
       "version_major": 2,
       "version_minor": 0
      },
      "text/plain": [
       "Iteration:   0%|          | 0/182 [00:00<?, ?it/s]"
      ]
     },
     "metadata": {},
     "output_type": "display_data"
    },
    {
     "name": "stdout",
     "output_type": "stream",
     "text": [
      "2024-01-28 16:14:59 - Information Retrieval Evaluation on  dataset after epoch 8:\n",
      "2024-01-28 16:15:35 - Queries: 2184\n",
      "2024-01-28 16:15:35 - Corpus: 24093\n",
      "\n",
      "2024-01-28 16:15:36 - Score-Function: cos_sim\n",
      "2024-01-28 16:15:36 - Accuracy@1: 82.60%\n",
      "2024-01-28 16:15:36 - Accuracy@3: 94.18%\n",
      "2024-01-28 16:15:36 - Accuracy@5: 96.52%\n",
      "2024-01-28 16:15:36 - Accuracy@10: 98.31%\n",
      "2024-01-28 16:15:36 - Precision@1: 82.60%\n",
      "2024-01-28 16:15:36 - Precision@3: 31.39%\n",
      "2024-01-28 16:15:36 - Precision@5: 19.30%\n",
      "2024-01-28 16:15:36 - Precision@10: 9.83%\n",
      "2024-01-28 16:15:36 - Recall@1: 82.60%\n",
      "2024-01-28 16:15:36 - Recall@3: 94.18%\n",
      "2024-01-28 16:15:36 - Recall@5: 96.52%\n",
      "2024-01-28 16:15:36 - Recall@10: 98.31%\n",
      "2024-01-28 16:15:36 - MRR@10: 0.8883\n",
      "2024-01-28 16:15:36 - NDCG@10: 0.9119\n",
      "2024-01-28 16:15:36 - MAP@100: 0.8890\n",
      "2024-01-28 16:15:36 - Score-Function: dot_score\n",
      "2024-01-28 16:15:36 - Accuracy@1: 82.65%\n",
      "2024-01-28 16:15:36 - Accuracy@3: 94.18%\n",
      "2024-01-28 16:15:36 - Accuracy@5: 96.52%\n",
      "2024-01-28 16:15:36 - Accuracy@10: 98.31%\n",
      "2024-01-28 16:15:36 - Precision@1: 82.65%\n",
      "2024-01-28 16:15:36 - Precision@3: 31.39%\n",
      "2024-01-28 16:15:36 - Precision@5: 19.30%\n",
      "2024-01-28 16:15:36 - Precision@10: 9.83%\n",
      "2024-01-28 16:15:36 - Recall@1: 82.65%\n",
      "2024-01-28 16:15:36 - Recall@3: 94.18%\n",
      "2024-01-28 16:15:36 - Recall@5: 96.52%\n",
      "2024-01-28 16:15:36 - Recall@10: 98.31%\n",
      "2024-01-28 16:15:36 - MRR@10: 0.8885\n",
      "2024-01-28 16:15:36 - NDCG@10: 0.9120\n",
      "2024-01-28 16:15:36 - MAP@100: 0.8893\n"
     ]
    },
    {
     "data": {
      "application/vnd.jupyter.widget-view+json": {
       "model_id": "1623e91f10144415a1cb771650ee95ba",
       "version_major": 2,
       "version_minor": 0
      },
      "text/plain": [
       "Iteration:   0%|          | 0/182 [00:00<?, ?it/s]"
      ]
     },
     "metadata": {},
     "output_type": "display_data"
    },
    {
     "name": "stdout",
     "output_type": "stream",
     "text": [
      "2024-01-28 16:16:33 - Information Retrieval Evaluation on  dataset after epoch 9:\n",
      "2024-01-28 16:17:09 - Queries: 2184\n",
      "2024-01-28 16:17:09 - Corpus: 24093\n",
      "\n",
      "2024-01-28 16:17:09 - Score-Function: cos_sim\n",
      "2024-01-28 16:17:09 - Accuracy@1: 82.33%\n",
      "2024-01-28 16:17:09 - Accuracy@3: 94.14%\n",
      "2024-01-28 16:17:09 - Accuracy@5: 96.52%\n",
      "2024-01-28 16:17:09 - Accuracy@10: 98.26%\n",
      "2024-01-28 16:17:09 - Precision@1: 82.33%\n",
      "2024-01-28 16:17:09 - Precision@3: 31.38%\n",
      "2024-01-28 16:17:09 - Precision@5: 19.30%\n",
      "2024-01-28 16:17:09 - Precision@10: 9.83%\n",
      "2024-01-28 16:17:09 - Recall@1: 82.33%\n",
      "2024-01-28 16:17:09 - Recall@3: 94.14%\n",
      "2024-01-28 16:17:09 - Recall@5: 96.52%\n",
      "2024-01-28 16:17:09 - Recall@10: 98.26%\n",
      "2024-01-28 16:17:09 - MRR@10: 0.8865\n",
      "2024-01-28 16:17:09 - NDCG@10: 0.9105\n",
      "2024-01-28 16:17:09 - MAP@100: 0.8873\n",
      "2024-01-28 16:17:09 - Score-Function: dot_score\n",
      "2024-01-28 16:17:09 - Accuracy@1: 82.33%\n",
      "2024-01-28 16:17:09 - Accuracy@3: 94.14%\n",
      "2024-01-28 16:17:09 - Accuracy@5: 96.52%\n",
      "2024-01-28 16:17:09 - Accuracy@10: 98.26%\n",
      "2024-01-28 16:17:09 - Precision@1: 82.33%\n",
      "2024-01-28 16:17:09 - Precision@3: 31.38%\n",
      "2024-01-28 16:17:09 - Precision@5: 19.30%\n",
      "2024-01-28 16:17:09 - Precision@10: 9.83%\n",
      "2024-01-28 16:17:09 - Recall@1: 82.33%\n",
      "2024-01-28 16:17:09 - Recall@3: 94.14%\n",
      "2024-01-28 16:17:09 - Recall@5: 96.52%\n",
      "2024-01-28 16:17:09 - Recall@10: 98.26%\n",
      "2024-01-28 16:17:09 - MRR@10: 0.8866\n",
      "2024-01-28 16:17:09 - NDCG@10: 0.9105\n",
      "2024-01-28 16:17:09 - MAP@100: 0.8874\n",
      "CPU times: user 21min 25s, sys: 3min 40s, total: 25min 5s\n",
      "Wall time: 15min 34s\n"
     ]
    }
   ],
   "source": [
    "%%time\n",
    "input_examples = []\n",
    "for data in train_data_synth:\n",
    "    input_examples.append(InputExample(texts=[data['query'], data['title']+ \": \" + data['pos']]))\n",
    "\n",
    "base_model_name = 'sentence-transformers/all-mpnet-base-v2'\n",
    "\n",
    "train_config ={\n",
    "        \"base_model\": base_model_name,\n",
    "        \"epochs\": 10,\n",
    "        \"train_batch_size\" : 44,\n",
    "        \"warmup_steps\": 50,\n",
    "        \"max_length\": 512,\n",
    "        \"device\": 'cuda',\n",
    "        \"train\": True\n",
    "}\n",
    "\n",
    "train(train_config, input_examples, test_queries, test_passages, test_relevant_docs)"
   ]
  },
  {
   "cell_type": "markdown",
   "id": "fd60ff7f-6119-4f54-9ff8-e9119648bf1f",
   "metadata": {},
   "source": [
    "## Evaluation ( Eval on the combined test dataset )"
   ]
  },
  {
   "cell_type": "code",
   "execution_count": 8,
   "id": "0ac21814-eb63-4ebc-bfb8-56d5a877c3e7",
   "metadata": {},
   "outputs": [],
   "source": [
    "evaluator = InformationRetrievalEvaluator(test_queries, test_passages, test_relevant_docts)"
   ]
  },
  {
   "cell_type": "code",
   "execution_count": 9,
   "id": "829f1a77-76c2-4f4b-93c4-1b66a72905b4",
   "metadata": {},
   "outputs": [
    {
     "name": "stderr",
     "output_type": "stream",
     "text": [
      "/home/ec2-user/anaconda3/envs/rag2/lib/python3.10/site-packages/torch/_utils.py:831: UserWarning: TypedStorage is deprecated. It will be removed in the future and UntypedStorage will be the only storage class. This should only matter to you if you are using storages directly.  To access UntypedStorage directly, use tensor.untyped_storage() instead of tensor.storage()\n",
      "  return self.fget.__get__(instance, owner)()\n"
     ]
    }
   ],
   "source": [
    "model_name = 'sentence-transformers/all-mpnet-base-v2'\n",
    "model = SentenceTransformer(model_name, device='cuda')"
   ]
  },
  {
   "cell_type": "markdown",
   "id": "5c3a7cfd-971d-4ca9-82e1-4a50df0bc8fa",
   "metadata": {},
   "source": [
    "### Baseline original model "
   ]
  },
  {
   "cell_type": "code",
   "execution_count": 12,
   "id": "9e0a00ec-2be3-4cc6-8530-105f9ddde424",
   "metadata": {
    "collapsed": true,
    "jupyter": {
     "outputs_hidden": true
    }
   },
   "outputs": [
    {
     "data": {
      "text/plain": [
       "{'cos_sim': {'accuracy@k': {1: 0.7962454212454212,\n",
       "   3: 0.9317765567765568,\n",
       "   5: 0.9601648351648352,\n",
       "   10: 0.9789377289377289},\n",
       "  'precision@k': {1: 0.7962454212454212,\n",
       "   3: 0.31059218559218554,\n",
       "   5: 0.19203296703296702,\n",
       "   10: 0.09789377289377288},\n",
       "  'recall@k': {1: 0.7962454212454212,\n",
       "   3: 0.9317765567765568,\n",
       "   5: 0.9601648351648352,\n",
       "   10: 0.9789377289377289},\n",
       "  'ndcg@k': {10: 0.8956225018672112},\n",
       "  'mrr@k': {10: 0.8680139470318038},\n",
       "  'map@k': {100: 0.869036756178447}},\n",
       " 'dot_score': {'accuracy@k': {1: 0.7957875457875457,\n",
       "   3: 0.9317765567765568,\n",
       "   5: 0.9601648351648352,\n",
       "   10: 0.9789377289377289},\n",
       "  'precision@k': {1: 0.7957875457875457,\n",
       "   3: 0.31059218559218554,\n",
       "   5: 0.19203296703296702,\n",
       "   10: 0.09789377289377288},\n",
       "  'recall@k': {1: 0.7957875457875457,\n",
       "   3: 0.9317765567765568,\n",
       "   5: 0.9601648351648352,\n",
       "   10: 0.9789377289377289},\n",
       "  'ndcg@k': {10: 0.8953935641382733},\n",
       "  'mrr@k': {10: 0.8677086967265534},\n",
       "  'map@k': {100: 0.8687315058731968}}}"
      ]
     },
     "execution_count": 12,
     "metadata": {},
     "output_type": "execute_result"
    }
   ],
   "source": [
    "evaluator.compute_metrices(model)"
   ]
  },
  {
   "cell_type": "markdown",
   "id": "dbfccb75-0831-4604-ba80-435228567a56",
   "metadata": {},
   "source": [
    "### Model trained on the combined dataset, adding a Hard negative. Let the model train for a lot longer and then maybe the accuracy might increase"
   ]
  },
  {
   "cell_type": "code",
   "execution_count": 13,
   "id": "3a95efbb-d5a8-4c9f-8483-a8b3332a4813",
   "metadata": {
    "collapsed": true,
    "jupyter": {
     "outputs_hidden": true
    }
   },
   "outputs": [
    {
     "data": {
      "text/plain": [
       "{'cos_sim': {'accuracy@k': {1: 0.8365384615384616,\n",
       "   3: 0.9313186813186813,\n",
       "   5: 0.9514652014652014,\n",
       "   10: 0.9771062271062271},\n",
       "  'precision@k': {1: 0.8365384615384616,\n",
       "   3: 0.31043956043956045,\n",
       "   5: 0.19029304029304028,\n",
       "   10: 0.0977106227106227},\n",
       "  'recall@k': {1: 0.8365384615384616,\n",
       "   3: 0.9313186813186813,\n",
       "   5: 0.9514652014652014,\n",
       "   10: 0.9771062271062271},\n",
       "  'ndcg@k': {10: 0.9093850273309033},\n",
       "  'mrr@k': {10: 0.8874282298389435},\n",
       "  'map@k': {100: 0.8883934271428281}},\n",
       " 'dot_score': {'accuracy@k': {1: 0.8365384615384616,\n",
       "   3: 0.9313186813186813,\n",
       "   5: 0.9514652014652014,\n",
       "   10: 0.9771062271062271},\n",
       "  'precision@k': {1: 0.8365384615384616,\n",
       "   3: 0.31043956043956045,\n",
       "   5: 0.19029304029304028,\n",
       "   10: 0.0977106227106227},\n",
       "  'recall@k': {1: 0.8365384615384616,\n",
       "   3: 0.9313186813186813,\n",
       "   5: 0.9514652014652014,\n",
       "   10: 0.9771062271062271},\n",
       "  'ndcg@k': {10: 0.9093850273309033},\n",
       "  'mrr@k': {10: 0.8874282298389435},\n",
       "  'map@k': {100: 0.8883963622419172}}}"
      ]
     },
     "execution_count": 13,
     "metadata": {},
     "output_type": "execute_result"
    }
   ],
   "source": [
    "model_name = 'train_embedder/models/sentence-transformers-all-mpnet-base-v2-2024-01-28_02-55-09'\n",
    "model = SentenceTransformer(model_name, device='cuda')\n",
    "evaluator.compute_metrices(model)"
   ]
  },
  {
   "cell_type": "markdown",
   "id": "7ecac62f-9cca-46fd-a509-e15c0338f6ae",
   "metadata": {},
   "source": [
    "### Model trained on new combined dataset without a hard negative. Batch size 44"
   ]
  },
  {
   "cell_type": "code",
   "execution_count": 14,
   "id": "1773c219-faab-4d0f-b050-b72eb6699990",
   "metadata": {
    "collapsed": true,
    "jupyter": {
     "outputs_hidden": true
    }
   },
   "outputs": [
    {
     "data": {
      "text/plain": [
       "{'cos_sim': {'accuracy@k': {1: 0.8498168498168498,\n",
       "   3: 0.9551282051282052,\n",
       "   5: 0.9757326007326007,\n",
       "   10: 0.9885531135531136},\n",
       "  'precision@k': {1: 0.8498168498168498,\n",
       "   3: 0.31837606837606836,\n",
       "   5: 0.19514652014652012,\n",
       "   10: 0.09885531135531135},\n",
       "  'recall@k': {1: 0.8498168498168498,\n",
       "   3: 0.9551282051282052,\n",
       "   5: 0.9757326007326007,\n",
       "   10: 0.9885531135531136},\n",
       "  'ndcg@k': {10: 0.9264136299687921},\n",
       "  'mrr@k': {10: 0.9056961887319026},\n",
       "  'map@k': {100: 0.9061929212927448}},\n",
       " 'dot_score': {'accuracy@k': {1: 0.8493589743589743,\n",
       "   3: 0.9551282051282052,\n",
       "   5: 0.9757326007326007,\n",
       "   10: 0.9885531135531136},\n",
       "  'precision@k': {1: 0.8493589743589743,\n",
       "   3: 0.31837606837606836,\n",
       "   5: 0.19514652014652012,\n",
       "   10: 0.09885531135531135},\n",
       "  'recall@k': {1: 0.8493589743589743,\n",
       "   3: 0.9551282051282052,\n",
       "   5: 0.9757326007326007,\n",
       "   10: 0.9885531135531136},\n",
       "  'ndcg@k': {10: 0.9262446417607205},\n",
       "  'mrr@k': {10: 0.9054672510029649},\n",
       "  'map@k': {100: 0.905962300198153}}}"
      ]
     },
     "execution_count": 14,
     "metadata": {},
     "output_type": "execute_result"
    }
   ],
   "source": [
    "model_name = 'train_embedder/models/sentence-transformers-all-mpnet-base-v2-2024-01-28_02-28-33'\n",
    "model = SentenceTransformer(model_name, device='cuda')\n",
    "evaluator.compute_metrices(model)"
   ]
  },
  {
   "cell_type": "markdown",
   "id": "5aa24814-3a5a-42a5-9ffb-7e15ec2d8302",
   "metadata": {},
   "source": [
    "### Model trained on the original synth dataset. "
   ]
  },
  {
   "cell_type": "markdown",
   "id": "7a882fc3-99e5-40e9-91d1-9c297e7b29c5",
   "metadata": {},
   "source": [
    "#### Batch size 44"
   ]
  },
  {
   "cell_type": "code",
   "execution_count": 18,
   "id": "08f7682e-d76b-440e-ad6e-874356356db4",
   "metadata": {
    "collapsed": true,
    "jupyter": {
     "outputs_hidden": true
    }
   },
   "outputs": [
    {
     "data": {
      "text/plain": [
       "{'cos_sim': {'accuracy@k': {1: 0.8598901098901099,\n",
       "   3: 0.9565018315018315,\n",
       "   5: 0.9752747252747253,\n",
       "   10: 0.9880952380952381},\n",
       "  'precision@k': {1: 0.8598901098901099,\n",
       "   3: 0.3188339438339438,\n",
       "   5: 0.19505494505494506,\n",
       "   10: 0.09880952380952379},\n",
       "  'recall@k': {1: 0.8598901098901099,\n",
       "   3: 0.9565018315018315,\n",
       "   5: 0.9752747252747253,\n",
       "   10: 0.9880952380952381},\n",
       "  'ndcg@k': {10: 0.9302517795134545},\n",
       "  'mrr@k': {10: 0.9110340717483572},\n",
       "  'map@k': {100: 0.9114858255539129}},\n",
       " 'dot_score': {'accuracy@k': {1: 0.8598901098901099,\n",
       "   3: 0.9565018315018315,\n",
       "   5: 0.9752747252747253,\n",
       "   10: 0.9880952380952381},\n",
       "  'precision@k': {1: 0.8598901098901099,\n",
       "   3: 0.3188339438339438,\n",
       "   5: 0.19505494505494506,\n",
       "   10: 0.09880952380952379},\n",
       "  'recall@k': {1: 0.8598901098901099,\n",
       "   3: 0.9565018315018315,\n",
       "   5: 0.9752747252747253,\n",
       "   10: 0.9880952380952381},\n",
       "  'ndcg@k': {10: 0.9302517795134545},\n",
       "  'mrr@k': {10: 0.9110340717483572},\n",
       "  'map@k': {100: 0.911484142188259}}}"
      ]
     },
     "execution_count": 18,
     "metadata": {},
     "output_type": "execute_result"
    }
   ],
   "source": [
    "model_name = 'train_embedder/models/sentence-transformers-all-mpnet-base-v2-2024-01-27_20-14-10'\n",
    "model = SentenceTransformer(model_name, device='cuda')\n",
    "evaluator.compute_metrices(model)"
   ]
  },
  {
   "cell_type": "markdown",
   "id": "a9ef4e18-1735-487a-84a4-470efdc0f1bf",
   "metadata": {},
   "source": [
    "#### Batch size 32"
   ]
  },
  {
   "cell_type": "code",
   "execution_count": 19,
   "id": "c2390dfe-9ad8-41ca-8df2-ffce962c541a",
   "metadata": {
    "collapsed": true,
    "jupyter": {
     "outputs_hidden": true
    },
    "scrolled": true
   },
   "outputs": [
    {
     "data": {
      "text/plain": [
       "{'cos_sim': {'accuracy@k': {1: 0.8443223443223443,\n",
       "   3: 0.9496336996336996,\n",
       "   5: 0.9743589743589743,\n",
       "   10: 0.9858058608058609},\n",
       "  'precision@k': {1: 0.8443223443223443,\n",
       "   3: 0.31654456654456653,\n",
       "   5: 0.19487179487179485,\n",
       "   10: 0.09858058608058608},\n",
       "  'recall@k': {1: 0.8443223443223443,\n",
       "   3: 0.9496336996336996,\n",
       "   5: 0.9743589743589743,\n",
       "   10: 0.9858058608058609},\n",
       "  'ndcg@k': {10: 0.9222560706815424},\n",
       "  'mrr@k': {10: 0.9010830934938074},\n",
       "  'map@k': {100: 0.9016895475162915}},\n",
       " 'dot_score': {'accuracy@k': {1: 0.8447802197802198,\n",
       "   3: 0.9496336996336996,\n",
       "   5: 0.9743589743589743,\n",
       "   10: 0.9858058608058609},\n",
       "  'precision@k': {1: 0.8447802197802198,\n",
       "   3: 0.31654456654456653,\n",
       "   5: 0.19487179487179485,\n",
       "   10: 0.09858058608058608},\n",
       "  'recall@k': {1: 0.8447802197802198,\n",
       "   3: 0.9496336996336996,\n",
       "   5: 0.9743589743589743,\n",
       "   10: 0.9858058608058609},\n",
       "  'ndcg@k': {10: 0.9224250588896141},\n",
       "  'mrr@k': {10: 0.9013120312227452},\n",
       "  'map@k': {100: 0.9019184852452292}}}"
      ]
     },
     "execution_count": 19,
     "metadata": {},
     "output_type": "execute_result"
    }
   ],
   "source": [
    "model_name = 'train_embedder/models/sentence-transformers-all-mpnet-base-v2-2024-01-27_19-46-50'\n",
    "model = SentenceTransformer(model_name, device='cuda')\n",
    "evaluator.compute_metrices(model)"
   ]
  },
  {
   "cell_type": "markdown",
   "id": "aedba49d-3cd5-47bc-994b-cced8a0b95b1",
   "metadata": {},
   "source": [
    "#### Batch size 16"
   ]
  },
  {
   "cell_type": "code",
   "execution_count": 21,
   "id": "a2a73661-4427-4cff-82b2-95c5ff16eed0",
   "metadata": {},
   "outputs": [
    {
     "data": {
      "text/plain": [
       "{'cos_sim': {'accuracy@k': {1: 0.8397435897435898,\n",
       "   3: 0.9464285714285714,\n",
       "   5: 0.9665750915750916,\n",
       "   10: 0.9835164835164835},\n",
       "  'precision@k': {1: 0.8397435897435898,\n",
       "   3: 0.31547619047619047,\n",
       "   5: 0.1933150183150183,\n",
       "   10: 0.09835164835164835},\n",
       "  'recall@k': {1: 0.8397435897435898,\n",
       "   3: 0.9464285714285714,\n",
       "   5: 0.9665750915750916,\n",
       "   10: 0.9835164835164835},\n",
       "  'ndcg@k': {10: 0.918007903869739},\n",
       "  'mrr@k': {10: 0.8962708587708583},\n",
       "  'map@k': {100: 0.8970177927622983}},\n",
       " 'dot_score': {'accuracy@k': {1: 0.8397435897435898,\n",
       "   3: 0.9459706959706959,\n",
       "   5: 0.9665750915750916,\n",
       "   10: 0.9835164835164835},\n",
       "  'precision@k': {1: 0.8397435897435898,\n",
       "   3: 0.3153235653235653,\n",
       "   5: 0.1933150183150183,\n",
       "   10: 0.09835164835164835},\n",
       "  'recall@k': {1: 0.8397435897435898,\n",
       "   3: 0.9459706959706959,\n",
       "   5: 0.9665750915750916,\n",
       "   10: 0.9835164835164835},\n",
       "  'ndcg@k': {10: 0.9179761623670253},\n",
       "  'mrr@k': {10: 0.8962327024827021},\n",
       "  'map@k': {100: 0.8969785462944804}}}"
      ]
     },
     "execution_count": 21,
     "metadata": {},
     "output_type": "execute_result"
    }
   ],
   "source": [
    "model_name = 'train_embedder/models/sentence-transformers-all-mpnet-base-v2-2024-01-27_19-11-04'\n",
    "model = SentenceTransformer(model_name, device='cuda')\n",
    "evaluator.compute_metrices(model)"
   ]
  },
  {
   "cell_type": "markdown",
   "id": "fc4e9ff7-c90e-464c-9033-b09ec46d8bda",
   "metadata": {},
   "source": [
    "### Model trained with title added as a prefix to the passage\n",
    "\n",
    "#### Without title in the test set"
   ]
  },
  {
   "cell_type": "code",
   "execution_count": 46,
   "id": "ceb86a08-e209-4c75-890b-1a9b974ba563",
   "metadata": {},
   "outputs": [
    {
     "name": "stdout",
     "output_type": "stream",
     "text": [
      "2024-01-28 16:18:53 - Load pretrained SentenceTransformer: train_embedder/models/sentence-transformers-all-mpnet-base-v2-2024-01-28_16-01-35\n",
      "2024-01-28 16:19:29 - Queries: 2184\n",
      "2024-01-28 16:19:29 - Corpus: 24093\n",
      "\n",
      "2024-01-28 16:19:29 - Score-Function: cos_sim\n",
      "2024-01-28 16:19:29 - Accuracy@1: 83.38%\n",
      "2024-01-28 16:19:29 - Accuracy@3: 94.78%\n",
      "2024-01-28 16:19:29 - Accuracy@5: 97.12%\n",
      "2024-01-28 16:19:29 - Accuracy@10: 98.58%\n",
      "2024-01-28 16:19:29 - Precision@1: 83.38%\n",
      "2024-01-28 16:19:29 - Precision@3: 31.59%\n",
      "2024-01-28 16:19:29 - Precision@5: 19.42%\n",
      "2024-01-28 16:19:29 - Precision@10: 9.86%\n",
      "2024-01-28 16:19:29 - Recall@1: 83.38%\n",
      "2024-01-28 16:19:29 - Recall@3: 94.78%\n",
      "2024-01-28 16:19:29 - Recall@5: 97.12%\n",
      "2024-01-28 16:19:29 - Recall@10: 98.58%\n",
      "2024-01-28 16:19:29 - MRR@10: 0.8938\n",
      "2024-01-28 16:19:29 - NDCG@10: 0.9167\n",
      "2024-01-28 16:19:29 - MAP@100: 0.8944\n",
      "2024-01-28 16:19:29 - Score-Function: dot_score\n",
      "2024-01-28 16:19:29 - Accuracy@1: 83.29%\n",
      "2024-01-28 16:19:29 - Accuracy@3: 94.78%\n",
      "2024-01-28 16:19:29 - Accuracy@5: 97.12%\n",
      "2024-01-28 16:19:29 - Accuracy@10: 98.53%\n",
      "2024-01-28 16:19:29 - Precision@1: 83.29%\n",
      "2024-01-28 16:19:29 - Precision@3: 31.59%\n",
      "2024-01-28 16:19:29 - Precision@5: 19.42%\n",
      "2024-01-28 16:19:29 - Precision@10: 9.85%\n",
      "2024-01-28 16:19:29 - Recall@1: 83.29%\n",
      "2024-01-28 16:19:29 - Recall@3: 94.78%\n",
      "2024-01-28 16:19:29 - Recall@5: 97.12%\n",
      "2024-01-28 16:19:29 - Recall@10: 98.53%\n",
      "2024-01-28 16:19:29 - MRR@10: 0.8933\n",
      "2024-01-28 16:19:29 - NDCG@10: 0.9163\n",
      "2024-01-28 16:19:29 - MAP@100: 0.8939\n"
     ]
    },
    {
     "data": {
      "text/plain": [
       "{'cos_sim': {'accuracy@k': {1: 0.8337912087912088,\n",
       "   3: 0.9478021978021978,\n",
       "   5: 0.9711538461538461,\n",
       "   10: 0.9858058608058609},\n",
       "  'precision@k': {1: 0.8337912087912088,\n",
       "   3: 0.3159340659340659,\n",
       "   5: 0.1942307692307692,\n",
       "   10: 0.09858058608058606},\n",
       "  'recall@k': {1: 0.8337912087912088,\n",
       "   3: 0.9478021978021978,\n",
       "   5: 0.9711538461538461,\n",
       "   10: 0.9858058608058609},\n",
       "  'ndcg@k': {10: 0.9167376423168481},\n",
       "  'mrr@k': {10: 0.8938246773068198},\n",
       "  'map@k': {100: 0.8943720453694837}},\n",
       " 'dot_score': {'accuracy@k': {1: 0.8328754578754579,\n",
       "   3: 0.9478021978021978,\n",
       "   5: 0.9711538461538461,\n",
       "   10: 0.9853479853479854},\n",
       "  'precision@k': {1: 0.8328754578754579,\n",
       "   3: 0.3159340659340659,\n",
       "   5: 0.1942307692307692,\n",
       "   10: 0.09853479853479853},\n",
       "  'recall@k': {1: 0.8328754578754579,\n",
       "   3: 0.9478021978021978,\n",
       "   5: 0.9711538461538461,\n",
       "   10: 0.9853479853479854},\n",
       "  'ndcg@k': {10: 0.9162673102109987},\n",
       "  'mrr@k': {10: 0.8933210143031569},\n",
       "  'map@k': {100: 0.8939100074074458}}}"
      ]
     },
     "execution_count": 46,
     "metadata": {},
     "output_type": "execute_result"
    }
   ],
   "source": [
    "model_name = 'train_embedder/models/sentence-transformers-all-mpnet-base-v2-2024-01-28_16-01-35'\n",
    "model = SentenceTransformer(model_name, device='cuda')\n",
    "evaluator.compute_metrices(model)"
   ]
  },
  {
   "cell_type": "markdown",
   "id": "18165181-c649-4513-b386-4d9cc26ee5e6",
   "metadata": {},
   "source": [
    "#### Lets evaluate when we add title as well to the passage in our test set. Performs even worse"
   ]
  },
  {
   "cell_type": "code",
   "execution_count": 47,
   "id": "146e0d0e-ced3-4d80-bb55-ee3352dcd677",
   "metadata": {},
   "outputs": [
    {
     "name": "stdout",
     "output_type": "stream",
     "text": [
      "2024-01-28 16:21:18 - Load pretrained SentenceTransformer: train_embedder/models/sentence-transformers-all-mpnet-base-v2-2024-01-28_16-01-35\n",
      "2024-01-28 16:21:55 - Queries: 2184\n",
      "2024-01-28 16:21:55 - Corpus: 24093\n",
      "\n",
      "2024-01-28 16:21:55 - Score-Function: cos_sim\n",
      "2024-01-28 16:21:55 - Accuracy@1: 81.91%\n",
      "2024-01-28 16:21:55 - Accuracy@3: 93.41%\n",
      "2024-01-28 16:21:55 - Accuracy@5: 95.92%\n",
      "2024-01-28 16:21:55 - Accuracy@10: 97.80%\n",
      "2024-01-28 16:21:55 - Precision@1: 81.91%\n",
      "2024-01-28 16:21:55 - Precision@3: 31.14%\n",
      "2024-01-28 16:21:55 - Precision@5: 19.18%\n",
      "2024-01-28 16:21:55 - Precision@10: 9.78%\n",
      "2024-01-28 16:21:55 - Recall@1: 81.91%\n",
      "2024-01-28 16:21:55 - Recall@3: 93.41%\n",
      "2024-01-28 16:21:55 - Recall@5: 95.92%\n",
      "2024-01-28 16:21:55 - Recall@10: 97.80%\n",
      "2024-01-28 16:21:55 - MRR@10: 0.8803\n",
      "2024-01-28 16:21:55 - NDCG@10: 0.9046\n",
      "2024-01-28 16:21:55 - MAP@100: 0.8813\n",
      "2024-01-28 16:21:55 - Score-Function: dot_score\n",
      "2024-01-28 16:21:55 - Accuracy@1: 81.91%\n",
      "2024-01-28 16:21:55 - Accuracy@3: 93.41%\n",
      "2024-01-28 16:21:55 - Accuracy@5: 95.92%\n",
      "2024-01-28 16:21:55 - Accuracy@10: 97.80%\n",
      "2024-01-28 16:21:55 - Precision@1: 81.91%\n",
      "2024-01-28 16:21:55 - Precision@3: 31.14%\n",
      "2024-01-28 16:21:55 - Precision@5: 19.18%\n",
      "2024-01-28 16:21:55 - Precision@10: 9.78%\n",
      "2024-01-28 16:21:55 - Recall@1: 81.91%\n",
      "2024-01-28 16:21:55 - Recall@3: 93.41%\n",
      "2024-01-28 16:21:55 - Recall@5: 95.92%\n",
      "2024-01-28 16:21:55 - Recall@10: 97.80%\n",
      "2024-01-28 16:21:55 - MRR@10: 0.8803\n",
      "2024-01-28 16:21:55 - NDCG@10: 0.9046\n",
      "2024-01-28 16:21:55 - MAP@100: 0.8813\n"
     ]
    },
    {
     "data": {
      "text/plain": [
       "{'cos_sim': {'accuracy@k': {1: 0.8191391941391941,\n",
       "   3: 0.9340659340659341,\n",
       "   5: 0.9592490842490843,\n",
       "   10: 0.978021978021978},\n",
       "  'precision@k': {1: 0.8191391941391941,\n",
       "   3: 0.31135531135531136,\n",
       "   5: 0.19184981684981683,\n",
       "   10: 0.09780219780219779},\n",
       "  'recall@k': {1: 0.8191391941391941,\n",
       "   3: 0.9340659340659341,\n",
       "   5: 0.9592490842490843,\n",
       "   10: 0.978021978021978},\n",
       "  'ndcg@k': {10: 0.9045665650601143},\n",
       "  'mrr@k': {10: 0.8803002718181286},\n",
       "  'map@k': {100: 0.8813429766961823}},\n",
       " 'dot_score': {'accuracy@k': {1: 0.8191391941391941,\n",
       "   3: 0.9340659340659341,\n",
       "   5: 0.9592490842490843,\n",
       "   10: 0.978021978021978},\n",
       "  'precision@k': {1: 0.8191391941391941,\n",
       "   3: 0.31135531135531136,\n",
       "   5: 0.19184981684981683,\n",
       "   10: 0.09780219780219779},\n",
       "  'recall@k': {1: 0.8191391941391941,\n",
       "   3: 0.9340659340659341,\n",
       "   5: 0.9592490842490843,\n",
       "   10: 0.978021978021978},\n",
       "  'ndcg@k': {10: 0.9045665650601143},\n",
       "  'mrr@k': {10: 0.8803002718181286},\n",
       "  'map@k': {100: 0.8813429766961823}}}"
      ]
     },
     "execution_count": 47,
     "metadata": {},
     "output_type": "execute_result"
    }
   ],
   "source": [
    "test_queries = { str(idx): data['query'] for idx, data in enumerate(combined_test_data) }\n",
    "\n",
    "test_passages = { str(idx)+'_'+str(jdx+1): data['title']+ \": \" + neg for idx, data in enumerate(combined_test_data) \n",
    "                 for jdx, neg in enumerate(data['negs']) }\n",
    "\n",
    "for idx, data in enumerate(combined_test_data):\n",
    "    test_passages[str(idx)+'_'+str(0)] = data['pos']\n",
    "\n",
    "test_relevant_docs = { str(idx): set([str(idx)+'_'+str(0)]) for idx, data in enumerate(combined_test_data) }\n",
    "\n",
    "local_evaluator = InformationRetrievalEvaluator(test_queries, test_passages, test_relevant_docts)\n",
    "\n",
    "model_name = 'train_embedder/models/sentence-transformers-all-mpnet-base-v2-2024-01-28_16-01-35'\n",
    "model = SentenceTransformer(model_name, device='cuda')\n",
    "local_evaluator.compute_metrices(model)"
   ]
  }
 ],
 "metadata": {
  "kernelspec": {
   "display_name": "Python 3 (ipykernel)",
   "language": "python",
   "name": "python3"
  },
  "language_info": {
   "codemirror_mode": {
    "name": "ipython",
    "version": 3
   },
   "file_extension": ".py",
   "mimetype": "text/x-python",
   "name": "python",
   "nbconvert_exporter": "python",
   "pygments_lexer": "ipython3",
   "version": "3.10.13"
  }
 },
 "nbformat": 4,
 "nbformat_minor": 5
}
